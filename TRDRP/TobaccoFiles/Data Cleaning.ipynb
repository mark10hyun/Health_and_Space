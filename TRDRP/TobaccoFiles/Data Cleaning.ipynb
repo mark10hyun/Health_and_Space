{
 "cells": [
  {
   "cell_type": "code",
   "execution_count": 1,
   "metadata": {},
   "outputs": [],
   "source": [
    "import pandas as pd\n",
    "import plotnine\n",
    "import geopandas as gpd\n",
    "%matplotlib inline\n",
    "from shapely.geometry import Point"
   ]
  },
  {
   "cell_type": "code",
   "execution_count": 2,
   "metadata": {},
   "outputs": [
    {
     "data": {
      "text/plain": [
       "'/Users/markhyun/Desktop/HealthandSpaceLab/TRDRP/TobaccoFiles'"
      ]
     },
     "execution_count": 2,
     "metadata": {},
     "output_type": "execute_result"
    }
   ],
   "source": [
    "pwd!"
   ]
  },
  {
   "cell_type": "code",
   "execution_count": 3,
   "metadata": {},
   "outputs": [
    {
     "ename": "FileNotFoundError",
     "evalue": "[Errno 2] File /Users/markhyun/Desktop/GIS/TRDRP/TobaccoShops_Files /Data/CSV/TobaccoSHP.csv does not exist: '/Users/markhyun/Desktop/GIS/TRDRP/TobaccoShops_Files /Data/CSV/TobaccoSHP.csv'",
     "output_type": "error",
     "traceback": [
      "\u001b[0;31m---------------------------------------------------------------------------\u001b[0m",
      "\u001b[0;31mFileNotFoundError\u001b[0m                         Traceback (most recent call last)",
      "\u001b[0;32m<ipython-input-3-393be5f062a1>\u001b[0m in \u001b[0;36m<module>\u001b[0;34m\u001b[0m\n\u001b[0;32m----> 1\u001b[0;31m \u001b[0mTobaccoLocations\u001b[0m \u001b[0;34m=\u001b[0m \u001b[0mpd\u001b[0m\u001b[0;34m.\u001b[0m\u001b[0mread_csv\u001b[0m\u001b[0;34m(\u001b[0m\u001b[0;34m'/Users/markhyun/Desktop/GIS/TRDRP/TobaccoShops_Files /Data/CSV/TobaccoSHP.csv'\u001b[0m\u001b[0;34m)\u001b[0m\u001b[0;34m\u001b[0m\u001b[0;34m\u001b[0m\u001b[0m\n\u001b[0m",
      "\u001b[0;32m~/opt/anaconda3/lib/python3.7/site-packages/pandas/io/parsers.py\u001b[0m in \u001b[0;36mparser_f\u001b[0;34m(filepath_or_buffer, sep, delimiter, header, names, index_col, usecols, squeeze, prefix, mangle_dupe_cols, dtype, engine, converters, true_values, false_values, skipinitialspace, skiprows, skipfooter, nrows, na_values, keep_default_na, na_filter, verbose, skip_blank_lines, parse_dates, infer_datetime_format, keep_date_col, date_parser, dayfirst, cache_dates, iterator, chunksize, compression, thousands, decimal, lineterminator, quotechar, quoting, doublequote, escapechar, comment, encoding, dialect, error_bad_lines, warn_bad_lines, delim_whitespace, low_memory, memory_map, float_precision)\u001b[0m\n\u001b[1;32m    674\u001b[0m         )\n\u001b[1;32m    675\u001b[0m \u001b[0;34m\u001b[0m\u001b[0m\n\u001b[0;32m--> 676\u001b[0;31m         \u001b[0;32mreturn\u001b[0m \u001b[0m_read\u001b[0m\u001b[0;34m(\u001b[0m\u001b[0mfilepath_or_buffer\u001b[0m\u001b[0;34m,\u001b[0m \u001b[0mkwds\u001b[0m\u001b[0;34m)\u001b[0m\u001b[0;34m\u001b[0m\u001b[0;34m\u001b[0m\u001b[0m\n\u001b[0m\u001b[1;32m    677\u001b[0m \u001b[0;34m\u001b[0m\u001b[0m\n\u001b[1;32m    678\u001b[0m     \u001b[0mparser_f\u001b[0m\u001b[0;34m.\u001b[0m\u001b[0m__name__\u001b[0m \u001b[0;34m=\u001b[0m \u001b[0mname\u001b[0m\u001b[0;34m\u001b[0m\u001b[0;34m\u001b[0m\u001b[0m\n",
      "\u001b[0;32m~/opt/anaconda3/lib/python3.7/site-packages/pandas/io/parsers.py\u001b[0m in \u001b[0;36m_read\u001b[0;34m(filepath_or_buffer, kwds)\u001b[0m\n\u001b[1;32m    446\u001b[0m \u001b[0;34m\u001b[0m\u001b[0m\n\u001b[1;32m    447\u001b[0m     \u001b[0;31m# Create the parser.\u001b[0m\u001b[0;34m\u001b[0m\u001b[0;34m\u001b[0m\u001b[0;34m\u001b[0m\u001b[0m\n\u001b[0;32m--> 448\u001b[0;31m     \u001b[0mparser\u001b[0m \u001b[0;34m=\u001b[0m \u001b[0mTextFileReader\u001b[0m\u001b[0;34m(\u001b[0m\u001b[0mfp_or_buf\u001b[0m\u001b[0;34m,\u001b[0m \u001b[0;34m**\u001b[0m\u001b[0mkwds\u001b[0m\u001b[0;34m)\u001b[0m\u001b[0;34m\u001b[0m\u001b[0;34m\u001b[0m\u001b[0m\n\u001b[0m\u001b[1;32m    449\u001b[0m \u001b[0;34m\u001b[0m\u001b[0m\n\u001b[1;32m    450\u001b[0m     \u001b[0;32mif\u001b[0m \u001b[0mchunksize\u001b[0m \u001b[0;32mor\u001b[0m \u001b[0miterator\u001b[0m\u001b[0;34m:\u001b[0m\u001b[0;34m\u001b[0m\u001b[0;34m\u001b[0m\u001b[0m\n",
      "\u001b[0;32m~/opt/anaconda3/lib/python3.7/site-packages/pandas/io/parsers.py\u001b[0m in \u001b[0;36m__init__\u001b[0;34m(self, f, engine, **kwds)\u001b[0m\n\u001b[1;32m    878\u001b[0m             \u001b[0mself\u001b[0m\u001b[0;34m.\u001b[0m\u001b[0moptions\u001b[0m\u001b[0;34m[\u001b[0m\u001b[0;34m\"has_index_names\"\u001b[0m\u001b[0;34m]\u001b[0m \u001b[0;34m=\u001b[0m \u001b[0mkwds\u001b[0m\u001b[0;34m[\u001b[0m\u001b[0;34m\"has_index_names\"\u001b[0m\u001b[0;34m]\u001b[0m\u001b[0;34m\u001b[0m\u001b[0;34m\u001b[0m\u001b[0m\n\u001b[1;32m    879\u001b[0m \u001b[0;34m\u001b[0m\u001b[0m\n\u001b[0;32m--> 880\u001b[0;31m         \u001b[0mself\u001b[0m\u001b[0;34m.\u001b[0m\u001b[0m_make_engine\u001b[0m\u001b[0;34m(\u001b[0m\u001b[0mself\u001b[0m\u001b[0;34m.\u001b[0m\u001b[0mengine\u001b[0m\u001b[0;34m)\u001b[0m\u001b[0;34m\u001b[0m\u001b[0;34m\u001b[0m\u001b[0m\n\u001b[0m\u001b[1;32m    881\u001b[0m \u001b[0;34m\u001b[0m\u001b[0m\n\u001b[1;32m    882\u001b[0m     \u001b[0;32mdef\u001b[0m \u001b[0mclose\u001b[0m\u001b[0;34m(\u001b[0m\u001b[0mself\u001b[0m\u001b[0;34m)\u001b[0m\u001b[0;34m:\u001b[0m\u001b[0;34m\u001b[0m\u001b[0;34m\u001b[0m\u001b[0m\n",
      "\u001b[0;32m~/opt/anaconda3/lib/python3.7/site-packages/pandas/io/parsers.py\u001b[0m in \u001b[0;36m_make_engine\u001b[0;34m(self, engine)\u001b[0m\n\u001b[1;32m   1112\u001b[0m     \u001b[0;32mdef\u001b[0m \u001b[0m_make_engine\u001b[0m\u001b[0;34m(\u001b[0m\u001b[0mself\u001b[0m\u001b[0;34m,\u001b[0m \u001b[0mengine\u001b[0m\u001b[0;34m=\u001b[0m\u001b[0;34m\"c\"\u001b[0m\u001b[0;34m)\u001b[0m\u001b[0;34m:\u001b[0m\u001b[0;34m\u001b[0m\u001b[0;34m\u001b[0m\u001b[0m\n\u001b[1;32m   1113\u001b[0m         \u001b[0;32mif\u001b[0m \u001b[0mengine\u001b[0m \u001b[0;34m==\u001b[0m \u001b[0;34m\"c\"\u001b[0m\u001b[0;34m:\u001b[0m\u001b[0;34m\u001b[0m\u001b[0;34m\u001b[0m\u001b[0m\n\u001b[0;32m-> 1114\u001b[0;31m             \u001b[0mself\u001b[0m\u001b[0;34m.\u001b[0m\u001b[0m_engine\u001b[0m \u001b[0;34m=\u001b[0m \u001b[0mCParserWrapper\u001b[0m\u001b[0;34m(\u001b[0m\u001b[0mself\u001b[0m\u001b[0;34m.\u001b[0m\u001b[0mf\u001b[0m\u001b[0;34m,\u001b[0m \u001b[0;34m**\u001b[0m\u001b[0mself\u001b[0m\u001b[0;34m.\u001b[0m\u001b[0moptions\u001b[0m\u001b[0;34m)\u001b[0m\u001b[0;34m\u001b[0m\u001b[0;34m\u001b[0m\u001b[0m\n\u001b[0m\u001b[1;32m   1115\u001b[0m         \u001b[0;32melse\u001b[0m\u001b[0;34m:\u001b[0m\u001b[0;34m\u001b[0m\u001b[0;34m\u001b[0m\u001b[0m\n\u001b[1;32m   1116\u001b[0m             \u001b[0;32mif\u001b[0m \u001b[0mengine\u001b[0m \u001b[0;34m==\u001b[0m \u001b[0;34m\"python\"\u001b[0m\u001b[0;34m:\u001b[0m\u001b[0;34m\u001b[0m\u001b[0;34m\u001b[0m\u001b[0m\n",
      "\u001b[0;32m~/opt/anaconda3/lib/python3.7/site-packages/pandas/io/parsers.py\u001b[0m in \u001b[0;36m__init__\u001b[0;34m(self, src, **kwds)\u001b[0m\n\u001b[1;32m   1889\u001b[0m         \u001b[0mkwds\u001b[0m\u001b[0;34m[\u001b[0m\u001b[0;34m\"usecols\"\u001b[0m\u001b[0;34m]\u001b[0m \u001b[0;34m=\u001b[0m \u001b[0mself\u001b[0m\u001b[0;34m.\u001b[0m\u001b[0musecols\u001b[0m\u001b[0;34m\u001b[0m\u001b[0;34m\u001b[0m\u001b[0m\n\u001b[1;32m   1890\u001b[0m \u001b[0;34m\u001b[0m\u001b[0m\n\u001b[0;32m-> 1891\u001b[0;31m         \u001b[0mself\u001b[0m\u001b[0;34m.\u001b[0m\u001b[0m_reader\u001b[0m \u001b[0;34m=\u001b[0m \u001b[0mparsers\u001b[0m\u001b[0;34m.\u001b[0m\u001b[0mTextReader\u001b[0m\u001b[0;34m(\u001b[0m\u001b[0msrc\u001b[0m\u001b[0;34m,\u001b[0m \u001b[0;34m**\u001b[0m\u001b[0mkwds\u001b[0m\u001b[0;34m)\u001b[0m\u001b[0;34m\u001b[0m\u001b[0;34m\u001b[0m\u001b[0m\n\u001b[0m\u001b[1;32m   1892\u001b[0m         \u001b[0mself\u001b[0m\u001b[0;34m.\u001b[0m\u001b[0munnamed_cols\u001b[0m \u001b[0;34m=\u001b[0m \u001b[0mself\u001b[0m\u001b[0;34m.\u001b[0m\u001b[0m_reader\u001b[0m\u001b[0;34m.\u001b[0m\u001b[0munnamed_cols\u001b[0m\u001b[0;34m\u001b[0m\u001b[0;34m\u001b[0m\u001b[0m\n\u001b[1;32m   1893\u001b[0m \u001b[0;34m\u001b[0m\u001b[0m\n",
      "\u001b[0;32mpandas/_libs/parsers.pyx\u001b[0m in \u001b[0;36mpandas._libs.parsers.TextReader.__cinit__\u001b[0;34m()\u001b[0m\n",
      "\u001b[0;32mpandas/_libs/parsers.pyx\u001b[0m in \u001b[0;36mpandas._libs.parsers.TextReader._setup_parser_source\u001b[0;34m()\u001b[0m\n",
      "\u001b[0;31mFileNotFoundError\u001b[0m: [Errno 2] File /Users/markhyun/Desktop/GIS/TRDRP/TobaccoShops_Files /Data/CSV/TobaccoSHP.csv does not exist: '/Users/markhyun/Desktop/GIS/TRDRP/TobaccoShops_Files /Data/CSV/TobaccoSHP.csv'"
     ]
    }
   ],
   "source": [
    "TobaccoLocations = pd.read_csv('/Users/markhyun/Desktop/GIS/TRDRP/TobaccoShops_Files /Data/CSV/TobaccoSHP.csv')"
   ]
  },
  {
   "cell_type": "code",
   "execution_count": 6,
   "metadata": {},
   "outputs": [],
   "source": [
    "TobaccoLicsenses = pd.read_csv('/Users/markhyun/Desktop/HealthandSpaceLab/TRDRP/TobaccoFiles/Data/CSV/TobaccoShopsAndLicsenses_SHP.csv')"
   ]
  },
  {
   "cell_type": "code",
   "execution_count": 41,
   "metadata": {},
   "outputs": [],
   "source": [
    "South_LA_Cities = []"
   ]
  },
  {
   "cell_type": "code",
   "execution_count": 42,
   "metadata": {},
   "outputs": [
    {
     "name": "stdout",
     "output_type": "stream",
     "text": [
      "<class 'pandas.core.frame.DataFrame'>\n",
      "RangeIndex: 516 entries, 0 to 515\n",
      "Data columns (total 94 columns):\n",
      " #   Column      Non-Null Count  Dtype  \n",
      "---  ------      --------------  -----  \n",
      " 0   Loc_name    513 non-null    object \n",
      " 1   Status      516 non-null    object \n",
      " 2   Score       516 non-null    float64\n",
      " 3   Match_type  516 non-null    object \n",
      " 4   Match_addr  513 non-null    object \n",
      " 5   LongLabel   513 non-null    object \n",
      " 6   ShortLabel  513 non-null    object \n",
      " 7   Addr_type   513 non-null    object \n",
      " 8   Type        0 non-null      float64\n",
      " 9   PlaceName   1 non-null      float64\n",
      " 10  Place_addr  513 non-null    object \n",
      " 11  Phone       0 non-null      float64\n",
      " 12  URL         0 non-null      float64\n",
      " 13  Rank        516 non-null    float64\n",
      " 14  AddBldg     0 non-null      float64\n",
      " 15  AddNum      510 non-null    object \n",
      " 16  AddNumFrom  83 non-null     float64\n",
      " 17  AddNumTo    83 non-null     float64\n",
      " 18  AddRange    83 non-null     object \n",
      " 19  Side        84 non-null     object \n",
      " 20  StPreDir    194 non-null    object \n",
      " 21  StPreType   1 non-null      object \n",
      " 22  StName      512 non-null    object \n",
      " 23  StType      504 non-null    object \n",
      " 24  StDir       3 non-null      object \n",
      " 25  BldgType    0 non-null      float64\n",
      " 26  BldgName    0 non-null      float64\n",
      " 27  LevelType   0 non-null      float64\n",
      " 28  LevelName   0 non-null      float64\n",
      " 29  UnitType    79 non-null     object \n",
      " 30  UnitName    79 non-null     object \n",
      " 31  SubAddr     79 non-null     object \n",
      " 32  StAddr      512 non-null    object \n",
      " 33  Block       0 non-null      float64\n",
      " 34  Sector      0 non-null      float64\n",
      " 35  Nbrhd       82 non-null     object \n",
      " 36  District    0 non-null      float64\n",
      " 37  City        513 non-null    object \n",
      " 38  MetroArea   86 non-null     object \n",
      " 39  Subregion   513 non-null    object \n",
      " 40  Region      513 non-null    object \n",
      " 41  RegionAbbr  513 non-null    object \n",
      " 42  Territory   0 non-null      float64\n",
      " 43  Zone        5 non-null      object \n",
      " 44  Postal      513 non-null    float64\n",
      " 45  PostalExt   485 non-null    float64\n",
      " 46  Country     513 non-null    object \n",
      " 47  LangCode    513 non-null    object \n",
      " 48  Distance    516 non-null    float64\n",
      " 49  X           516 non-null    float64\n",
      " 50  Y           516 non-null    float64\n",
      " 51  DisplayX    516 non-null    float64\n",
      " 52  DisplayY    516 non-null    float64\n",
      " 53  Xmin        516 non-null    float64\n",
      " 54  Xmax        516 non-null    float64\n",
      " 55  Ymin        516 non-null    float64\n",
      " 56  Ymax        516 non-null    float64\n",
      " 57  ExInfo      504 non-null    object \n",
      " 58  ARC_Addres  513 non-null    object \n",
      " 59  ARC_Addr_1  0 non-null      float64\n",
      " 60  ARC_Addr_2  0 non-null      float64\n",
      " 61  ARC_Neighb  0 non-null      float64\n",
      " 62  ARC_City    512 non-null    object \n",
      " 63  ARC_Subreg  0 non-null      float64\n",
      " 64  ARC_Region  0 non-null      float64\n",
      " 65  ARC_Postal  512 non-null    object \n",
      " 66  ARC_Post_1  0 non-null      float64\n",
      " 67  ARC_Countr  0 non-null      float64\n",
      " 68  Field1      516 non-null    int64  \n",
      " 69  BTRC        458 non-null    object \n",
      " 70  OWNER       462 non-null    object \n",
      " 71  DBA         501 non-null    object \n",
      " 72  ADDRESS     513 non-null    object \n",
      " 73  CITY_1      512 non-null    object \n",
      " 74  ZIP         512 non-null    object \n",
      " 75  CD          516 non-null    int64  \n",
      " 76  status_1    466 non-null    object \n",
      " 77  type_1      506 non-null    object \n",
      " 78  Field11     512 non-null    object \n",
      " 79  Comments    31 non-null     object \n",
      " 80  Field13     0 non-null      float64\n",
      " 81  Field14     1 non-null      object \n",
      " 82  Field15     0 non-null      float64\n",
      " 83  Field16     0 non-null      float64\n",
      " 84  Field17     0 non-null      float64\n",
      " 85  Field18     0 non-null      float64\n",
      " 86  Field19     0 non-null      float64\n",
      " 87  Field20     0 non-null      float64\n",
      " 88  Field21     0 non-null      float64\n",
      " 89  Field22     0 non-null      float64\n",
      " 90  Field23     0 non-null      float64\n",
      " 91  Field24     0 non-null      float64\n",
      " 92  Field25     0 non-null      float64\n",
      " 93  Field26     0 non-null      float64\n",
      "dtypes: float64(48), int64(2), object(44)\n",
      "memory usage: 379.1+ KB\n"
     ]
    },
    {
     "data": {
      "text/plain": [
       "Loc_name        3\n",
       "Status          0\n",
       "Score           0\n",
       "Match_type      0\n",
       "Match_addr      3\n",
       "             ... \n",
       "Field22       516\n",
       "Field23       516\n",
       "Field24       516\n",
       "Field25       516\n",
       "Field26       516\n",
       "Length: 94, dtype: int64"
      ]
     },
     "execution_count": 42,
     "metadata": {},
     "output_type": "execute_result"
    }
   ],
   "source": [
    "TobaccoLocations.head()\n",
    "TobaccoLocations.info()\n",
    "TobaccoLocations.isnull().sum()"
   ]
  },
  {
   "cell_type": "code",
   "execution_count": 43,
   "metadata": {},
   "outputs": [
    {
     "name": "stdout",
     "output_type": "stream",
     "text": [
      "<class 'pandas.core.frame.DataFrame'>\n",
      "RangeIndex: 22691 entries, 0 to 22690\n",
      "Data columns (total 9 columns):\n",
      " #   Column     Non-Null Count  Dtype  \n",
      "---  ------     --------------  -----  \n",
      " 0   X          22691 non-null  float64\n",
      " 1   Y          22691 non-null  float64\n",
      " 2   License__  22175 non-null  float64\n",
      " 3   Owner      22636 non-null  object \n",
      " 4   DBA        22546 non-null  object \n",
      " 5   Address    22687 non-null  object \n",
      " 6   City_1     22686 non-null  object \n",
      " 7   State      22686 non-null  object \n",
      " 8   Zip        22175 non-null  float64\n",
      "dtypes: float64(4), object(5)\n",
      "memory usage: 1.6+ MB\n"
     ]
    },
    {
     "data": {
      "text/plain": [
       "145"
      ]
     },
     "execution_count": 43,
     "metadata": {},
     "output_type": "execute_result"
    }
   ],
   "source": [
    "TobaccoLicsenses.head()\n",
    "TobaccoLicsenses.info()\n",
    "TobaccoLicsenses['DBA'].isnull().sum()"
   ]
  },
  {
   "cell_type": "code",
   "execution_count": 44,
   "metadata": {},
   "outputs": [],
   "source": [
    "#Isolating the features we want from each file.\n",
    "TobaccoLicsenses_DF = TobaccoLicsenses[['X','Y', 'DBA']]\n",
    "TobaccoLocations_DF = TobaccoLocations[['X','Y', 'DBA']]"
   ]
  },
  {
   "cell_type": "code",
   "execution_count": 45,
   "metadata": {},
   "outputs": [
    {
     "name": "stdout",
     "output_type": "stream",
     "text": [
      "<class 'pandas.core.frame.DataFrame'>\n",
      "Int64Index: 23207 entries, 0 to 515\n",
      "Data columns (total 3 columns):\n",
      " #   Column  Non-Null Count  Dtype  \n",
      "---  ------  --------------  -----  \n",
      " 0   X       23207 non-null  float64\n",
      " 1   Y       23207 non-null  float64\n",
      " 2   DBA     23047 non-null  object \n",
      "dtypes: float64(2), object(1)\n",
      "memory usage: 725.2+ KB\n"
     ]
    },
    {
     "data": {
      "text/plain": [
       "X        0\n",
       "Y        0\n",
       "DBA    160\n",
       "dtype: int64"
      ]
     },
     "execution_count": 45,
     "metadata": {},
     "output_type": "execute_result"
    }
   ],
   "source": [
    "#MUST DO THIS BEFORE RUNNING CODE BELOW#concat shops and liscences (x,y coords, doing bus name (DBA), Business name *rename so that both csv columns have the same busname in columnname)\n",
    "#AFTER concat save as csv in the output folder\n",
    "#ad it to south la shp\n",
    "combined = pd.concat([TobaccoLicsenses_DF, TobaccoLocations_DF], axis=0) #axis 0 = row bind / axis 1 = column bind\n",
    "#merged_inner = pd.merge(TobaccoLocations_DF,TobaccoLicsenses_DF, how = 'left', on=['DBA'])\n",
    "combined.info()\n",
    "combined.isnull().sum()\n",
    "#merged_inner_dups = merged_inner[merged_inner.duplicated(['DBA'])]\n",
    "#print(merged_inner_dups)\n",
    "#merged_inner.tail"
   ]
  },
  {
   "cell_type": "code",
   "execution_count": 46,
   "metadata": {},
   "outputs": [],
   "source": [
    "combined['DBA'].fillna('Missing Name', inplace = True)"
   ]
  },
  {
   "cell_type": "code",
   "execution_count": 47,
   "metadata": {},
   "outputs": [
    {
     "data": {
      "text/plain": [
       "X      0\n",
       "Y      0\n",
       "DBA    0\n",
       "dtype: int64"
      ]
     },
     "execution_count": 47,
     "metadata": {},
     "output_type": "execute_result"
    }
   ],
   "source": [
    "combined.isnull().sum()\n"
   ]
  },
  {
   "cell_type": "code",
   "execution_count": null,
   "metadata": {},
   "outputs": [],
   "source": []
  },
  {
   "cell_type": "code",
   "execution_count": 48,
   "metadata": {},
   "outputs": [
    {
     "data": {
      "text/plain": [
       "160"
      ]
     },
     "execution_count": 48,
     "metadata": {},
     "output_type": "execute_result"
    }
   ],
   "source": [
    "(combined.DBA =='Missing Name').sum()"
   ]
  },
  {
   "cell_type": "code",
   "execution_count": 49,
   "metadata": {},
   "outputs": [],
   "source": [
    "combined.to_csv('Output/CSV/mergedTobacco.csv', sep=',', encoding='utf-8', index = 'False')\n"
   ]
  },
  {
   "cell_type": "code",
   "execution_count": 88,
   "metadata": {},
   "outputs": [],
   "source": [
    "southLA=gpd.read_file('Data/SHP/South_LA/SLA_Tracts.shp')\n",
    "tobaccoShops= pd.read_csv('Output/CSV/mergedTobacco.csv')\n",
    "\n",
    "southLA.drop('geometry',axis=1).to_csv('Output/SHP/SouthLA_TractSHP.csv', index = False)"
   ]
  },
  {
   "cell_type": "code",
   "execution_count": 100,
   "metadata": {},
   "outputs": [
    {
     "data": {
      "text/plain": [
       "<Geographic 2D CRS: EPSG:4269>\n",
       "Name: NAD83\n",
       "Axis Info [ellipsoidal]:\n",
       "- Lat[north]: Geodetic latitude (degree)\n",
       "- Lon[east]: Geodetic longitude (degree)\n",
       "Area of Use:\n",
       "- name: North America - NAD83\n",
       "- bounds: (167.65, 14.92, -47.74, 86.46)\n",
       "Datum: North American Datum 1983\n",
       "- Ellipsoid: GRS 1980\n",
       "- Prime Meridian: Greenwich"
      ]
     },
     "execution_count": 100,
     "metadata": {},
     "output_type": "execute_result"
    }
   ],
   "source": [
    "tobaccoshops_gdf = gpd.GeoDataFrame(tobaccoShops,geometry = gpd.points_from_xy(combined['X'],combined['Y']), crs = 'EPSG:4269')\n",
    "tobaccoshops_gdf.crs"
   ]
  },
  {
   "cell_type": "code",
   "execution_count": 101,
   "metadata": {},
   "outputs": [
    {
     "data": {
      "text/plain": [
       "<matplotlib.axes._subplots.AxesSubplot at 0x7fd955d94710>"
      ]
     },
     "execution_count": 101,
     "metadata": {},
     "output_type": "execute_result"
    },
    {
     "data": {
      "image/png": "[encoded data removed]",
      "text/plain": [
       "<Figure size 432x288 with 1 Axes>"
      ]
     },
     "metadata": {
      "needs_background": "light"
     },
     "output_type": "display_data"
    }
   ],
   "source": [
    "mergedTobacco_gdf.plot()"
   ]
  },
  {
   "cell_type": "code",
   "execution_count": 111,
   "metadata": {},
   "outputs": [
    {
     "data": {
      "text/plain": [
       "<matplotlib.axes._subplots.AxesSubplot at 0x7fd958b51fd0>"
      ]
     },
     "execution_count": 111,
     "metadata": {},
     "output_type": "execute_result"
    },
    {
     "data": {
      "image/png": "[encoded data removed]",
      "text/plain": [
       "<Figure size 432x288 with 1 Axes>"
      ]
     },
     "metadata": {
      "needs_background": "light"
     },
     "output_type": "display_data"
    }
   ],
   "source": [
    "southLA.plot()"
   ]
  },
  {
   "cell_type": "code",
   "execution_count": 112,
   "metadata": {},
   "outputs": [
    {
     "data": {
      "text/plain": [
       "<bound method NDFrame.head of      OBJECTID STATEFP COUNTYFP TRACTCE        GEOID     NAME  \\\n",
       "0           1      06      037  237201  06037237201  2372.01   \n",
       "1           2      06      037  239201  06037239201  2392.01   \n",
       "2           3      06      037  239601  06037239601  2396.01   \n",
       "3           4      06      037  237300  06037237300     2373   \n",
       "4           5      06      037  227010  06037227010  2270.10   \n",
       "..        ...     ...      ...     ...          ...      ...   \n",
       "113       114      06      037  533002  06037533002  5330.02   \n",
       "114       115      06      037  535002  06037535002  5350.02   \n",
       "115       116      06      037  242000  06037242000     2420   \n",
       "116       117      06      037  232120  06037232120  2321.20   \n",
       "117       118      06      037  532700  06037532700     5327   \n",
       "\n",
       "                 NAMELSAD  MTFCC FUNCSTAT     ALAND  AWATER     INTPTLAT  \\\n",
       "0    Census Tract 2372.01  G5020        S  453406.0     0.0  +33.9857256   \n",
       "1    Census Tract 2392.01  G5020        S  449869.0     0.0  +33.9857805   \n",
       "2    Census Tract 2396.01  G5020        S  422289.0     0.0  +33.9728370   \n",
       "3       Census Tract 2373  G5020        S  997691.0     0.0  +33.9782832   \n",
       "4    Census Tract 2270.10  G5020        S  579198.0     0.0  +34.0185256   \n",
       "..                    ...    ...      ...       ...     ...          ...   \n",
       "113  Census Tract 5330.02  G5020        S  485248.0     0.0  +33.9774893   \n",
       "114  Census Tract 5350.02  G5020        S  483255.0     0.0  +33.9711665   \n",
       "115     Census Tract 2420  G5020        S  646734.0     0.0  +33.9392821   \n",
       "116  Census Tract 2321.20  G5020        S  521876.0     0.0  +33.9996748   \n",
       "117     Census Tract 5327  G5020        S  771359.0     0.0  +33.9852598   \n",
       "\n",
       "         INTPTLON  Shape_Leng  Shape_Area  \\\n",
       "0    -118.2991149    0.026608    0.000044   \n",
       "1    -118.2771699    0.026609    0.000044   \n",
       "2    -118.2752978    0.030094    0.000041   \n",
       "3    -118.3110714    0.041349    0.000097   \n",
       "4    -118.2469968    0.036961    0.000057   \n",
       "..            ...         ...         ...   \n",
       "113  -118.2391516    0.028294    0.000047   \n",
       "114  -118.2465194    0.027826    0.000047   \n",
       "115  -118.2502155    0.031553    0.000063   \n",
       "116  -118.2839315    0.028889    0.000051   \n",
       "117  -118.2413457    0.041378    0.000075   \n",
       "\n",
       "                                              geometry  \n",
       "0    POLYGON ((-118.30240 33.98325, -118.30239 33.9...  \n",
       "1    POLYGON ((-118.28047 33.98286, -118.28045 33.9...  \n",
       "2    POLYGON ((-118.28071 33.97467, -118.28023 33.9...  \n",
       "3    POLYGON ((-118.31775 33.97502, -118.31774 33.9...  \n",
       "4    POLYGON ((-118.25427 34.02038, -118.25412 34.0...  \n",
       "..                                                 ...  \n",
       "113  POLYGON ((-118.24335 33.97956, -118.24335 33.9...  \n",
       "114  POLYGON ((-118.24990 33.97077, -118.24990 33.9...  \n",
       "115  POLYGON ((-118.25418 33.93680, -118.25417 33.9...  \n",
       "116  POLYGON ((-118.28713 33.99644, -118.28709 33.9...  \n",
       "117  POLYGON ((-118.24775 33.98946, -118.24775 33.9...  \n",
       "\n",
       "[118 rows x 16 columns]>"
      ]
     },
     "execution_count": 112,
     "metadata": {},
     "output_type": "execute_result"
    }
   ],
   "source": [
    "southLA.head"
   ]
  },
  {
   "cell_type": "code",
   "execution_count": 113,
   "metadata": {},
   "outputs": [
    {
     "data": {
      "text/plain": [
       "<Geographic 2D CRS: EPSG:4269>\n",
       "Name: NAD83\n",
       "Axis Info [ellipsoidal]:\n",
       "- Lat[north]: Geodetic latitude (degree)\n",
       "- Lon[east]: Geodetic longitude (degree)\n",
       "Area of Use:\n",
       "- name: North America - NAD83\n",
       "- bounds: (167.65, 14.92, -47.74, 86.46)\n",
       "Datum: North American Datum 1983\n",
       "- Ellipsoid: GRS 1980\n",
       "- Prime Meridian: Greenwich"
      ]
     },
     "execution_count": 113,
     "metadata": {},
     "output_type": "execute_result"
    }
   ],
   "source": [
    "southLA.crs"
   ]
  },
  {
   "cell_type": "code",
   "execution_count": 114,
   "metadata": {},
   "outputs": [
    {
     "data": {
      "text/plain": [
       "<Geographic 2D CRS: EPSG:4269>\n",
       "Name: NAD83\n",
       "Axis Info [ellipsoidal]:\n",
       "- Lat[north]: Geodetic latitude (degree)\n",
       "- Lon[east]: Geodetic longitude (degree)\n",
       "Area of Use:\n",
       "- name: North America - NAD83\n",
       "- bounds: (167.65, 14.92, -47.74, 86.46)\n",
       "Datum: North American Datum 1983\n",
       "- Ellipsoid: GRS 1980\n",
       "- Prime Meridian: Greenwich"
      ]
     },
     "execution_count": 114,
     "metadata": {},
     "output_type": "execute_result"
    }
   ],
   "source": [
    "tobaccoshops_gdf.crs"
   ]
  },
  {
   "cell_type": "code",
   "execution_count": null,
   "metadata": {},
   "outputs": [],
   "source": []
  },
  {
   "cell_type": "code",
   "execution_count": 117,
   "metadata": {},
   "outputs": [],
   "source": [
    "tobaccoShops_within_SLA = gpd.sjoin(tobaccoshops_gdf,southLA, how = 'inner', op = 'within')"
   ]
  },
  {
   "cell_type": "code",
   "execution_count": 118,
   "metadata": {},
   "outputs": [
    {
     "data": {
      "text/plain": [
       "<matplotlib.axes._subplots.AxesSubplot at 0x7fd9397c3910>"
      ]
     },
     "execution_count": 118,
     "metadata": {},
     "output_type": "execute_result"
    },
    {
     "data": {
      "image/png": "[encoded data removed]",
      "text/plain": [
       "<Figure size 432x288 with 1 Axes>"
      ]
     },
     "metadata": {
      "needs_background": "light"
     },
     "output_type": "display_data"
    }
   ],
   "source": [
    "tobaccoShops_within_SLA.plot()"
   ]
  },
  {
   "cell_type": "code",
   "execution_count": 107,
   "metadata": {},
   "outputs": [
    {
     "data": {
      "text/html": [
       "<div>\n",
       "<style scoped>\n",
       "    .dataframe tbody tr th:only-of-type {\n",
       "        vertical-align: middle;\n",
       "    }\n",
       "\n",
       "    .dataframe tbody tr th {\n",
       "        vertical-align: top;\n",
       "    }\n",
       "\n",
       "    .dataframe thead th {\n",
       "        text-align: right;\n",
       "    }\n",
       "</style>\n",
       "<table border=\"1\" class=\"dataframe\">\n",
       "  <thead>\n",
       "    <tr style=\"text-align: right;\">\n",
       "      <th></th>\n",
       "      <th>Unnamed: 0</th>\n",
       "      <th>X</th>\n",
       "      <th>Y</th>\n",
       "      <th>DBA</th>\n",
       "      <th>geometry</th>\n",
       "      <th>index_right</th>\n",
       "      <th>OBJECTID</th>\n",
       "      <th>STATEFP</th>\n",
       "      <th>COUNTYFP</th>\n",
       "      <th>TRACTCE</th>\n",
       "      <th>...</th>\n",
       "      <th>NAME</th>\n",
       "      <th>NAMELSAD</th>\n",
       "      <th>MTFCC</th>\n",
       "      <th>FUNCSTAT</th>\n",
       "      <th>ALAND</th>\n",
       "      <th>AWATER</th>\n",
       "      <th>INTPTLAT</th>\n",
       "      <th>INTPTLON</th>\n",
       "      <th>Shape_Leng</th>\n",
       "      <th>Shape_Area</th>\n",
       "    </tr>\n",
       "  </thead>\n",
       "  <tbody>\n",
       "    <tr>\n",
       "      <th>11</th>\n",
       "      <td>11</td>\n",
       "      <td>-118.265225</td>\n",
       "      <td>33.979012</td>\n",
       "      <td>EL MEXICANO MARKET</td>\n",
       "      <td>POINT (-118.26522 33.97901)</td>\n",
       "      <td>75</td>\n",
       "      <td>76</td>\n",
       "      <td>06</td>\n",
       "      <td>037</td>\n",
       "      <td>239330</td>\n",
       "      <td>...</td>\n",
       "      <td>2393.30</td>\n",
       "      <td>Census Tract 2393.30</td>\n",
       "      <td>G5020</td>\n",
       "      <td>S</td>\n",
       "      <td>979523.0</td>\n",
       "      <td>0.0</td>\n",
       "      <td>+33.9783876</td>\n",
       "      <td>-118.2631028</td>\n",
       "      <td>0.041296</td>\n",
       "      <td>0.000096</td>\n",
       "    </tr>\n",
       "    <tr>\n",
       "      <th>13582</th>\n",
       "      <td>13582</td>\n",
       "      <td>-118.268993</td>\n",
       "      <td>33.974727</td>\n",
       "      <td>7-ELEVEN #36961A</td>\n",
       "      <td>POINT (-118.26899 33.97473)</td>\n",
       "      <td>75</td>\n",
       "      <td>76</td>\n",
       "      <td>06</td>\n",
       "      <td>037</td>\n",
       "      <td>239330</td>\n",
       "      <td>...</td>\n",
       "      <td>2393.30</td>\n",
       "      <td>Census Tract 2393.30</td>\n",
       "      <td>G5020</td>\n",
       "      <td>S</td>\n",
       "      <td>979523.0</td>\n",
       "      <td>0.0</td>\n",
       "      <td>+33.9783876</td>\n",
       "      <td>-118.2631028</td>\n",
       "      <td>0.041296</td>\n",
       "      <td>0.000096</td>\n",
       "    </tr>\n",
       "    <tr>\n",
       "      <th>274</th>\n",
       "      <td>274</td>\n",
       "      <td>-118.282709</td>\n",
       "      <td>34.004839</td>\n",
       "      <td>RITE AID #5445</td>\n",
       "      <td>POINT (-118.28271 34.00484)</td>\n",
       "      <td>37</td>\n",
       "      <td>38</td>\n",
       "      <td>06</td>\n",
       "      <td>037</td>\n",
       "      <td>231720</td>\n",
       "      <td>...</td>\n",
       "      <td>2317.20</td>\n",
       "      <td>Census Tract 2317.20</td>\n",
       "      <td>G5020</td>\n",
       "      <td>S</td>\n",
       "      <td>472239.0</td>\n",
       "      <td>0.0</td>\n",
       "      <td>+34.0074463</td>\n",
       "      <td>-118.2840710</td>\n",
       "      <td>0.027148</td>\n",
       "      <td>0.000046</td>\n",
       "    </tr>\n",
       "    <tr>\n",
       "      <th>5780</th>\n",
       "      <td>5780</td>\n",
       "      <td>-118.282721</td>\n",
       "      <td>34.010682</td>\n",
       "      <td>CHEVRON STATIONS INC. #1864</td>\n",
       "      <td>POINT (-118.28272 34.01068)</td>\n",
       "      <td>37</td>\n",
       "      <td>38</td>\n",
       "      <td>06</td>\n",
       "      <td>037</td>\n",
       "      <td>231720</td>\n",
       "      <td>...</td>\n",
       "      <td>2317.20</td>\n",
       "      <td>Census Tract 2317.20</td>\n",
       "      <td>G5020</td>\n",
       "      <td>S</td>\n",
       "      <td>472239.0</td>\n",
       "      <td>0.0</td>\n",
       "      <td>+34.0074463</td>\n",
       "      <td>-118.2840710</td>\n",
       "      <td>0.027148</td>\n",
       "      <td>0.000046</td>\n",
       "    </tr>\n",
       "    <tr>\n",
       "      <th>12410</th>\n",
       "      <td>12410</td>\n",
       "      <td>-118.282762</td>\n",
       "      <td>34.008035</td>\n",
       "      <td>BESTWAY LIQUOR</td>\n",
       "      <td>POINT (-118.28276 34.00804)</td>\n",
       "      <td>37</td>\n",
       "      <td>38</td>\n",
       "      <td>06</td>\n",
       "      <td>037</td>\n",
       "      <td>231720</td>\n",
       "      <td>...</td>\n",
       "      <td>2317.20</td>\n",
       "      <td>Census Tract 2317.20</td>\n",
       "      <td>G5020</td>\n",
       "      <td>S</td>\n",
       "      <td>472239.0</td>\n",
       "      <td>0.0</td>\n",
       "      <td>+34.0074463</td>\n",
       "      <td>-118.2840710</td>\n",
       "      <td>0.027148</td>\n",
       "      <td>0.000046</td>\n",
       "    </tr>\n",
       "  </tbody>\n",
       "</table>\n",
       "<p>5 rows × 21 columns</p>\n",
       "</div>"
      ],
      "text/plain": [
       "       Unnamed: 0           X          Y                          DBA  \\\n",
       "11             11 -118.265225  33.979012           EL MEXICANO MARKET   \n",
       "13582       13582 -118.268993  33.974727             7-ELEVEN #36961A   \n",
       "274           274 -118.282709  34.004839               RITE AID #5445   \n",
       "5780         5780 -118.282721  34.010682  CHEVRON STATIONS INC. #1864   \n",
       "12410       12410 -118.282762  34.008035               BESTWAY LIQUOR   \n",
       "\n",
       "                          geometry  index_right  OBJECTID STATEFP COUNTYFP  \\\n",
       "11     POINT (-118.26522 33.97901)           75        76      06      037   \n",
       "13582  POINT (-118.26899 33.97473)           75        76      06      037   \n",
       "274    POINT (-118.28271 34.00484)           37        38      06      037   \n",
       "5780   POINT (-118.28272 34.01068)           37        38      06      037   \n",
       "12410  POINT (-118.28276 34.00804)           37        38      06      037   \n",
       "\n",
       "      TRACTCE  ...     NAME              NAMELSAD  MTFCC FUNCSTAT     ALAND  \\\n",
       "11     239330  ...  2393.30  Census Tract 2393.30  G5020        S  979523.0   \n",
       "13582  239330  ...  2393.30  Census Tract 2393.30  G5020        S  979523.0   \n",
       "274    231720  ...  2317.20  Census Tract 2317.20  G5020        S  472239.0   \n",
       "5780   231720  ...  2317.20  Census Tract 2317.20  G5020        S  472239.0   \n",
       "12410  231720  ...  2317.20  Census Tract 2317.20  G5020        S  472239.0   \n",
       "\n",
       "       AWATER     INTPTLAT      INTPTLON Shape_Leng  Shape_Area  \n",
       "11        0.0  +33.9783876  -118.2631028   0.041296    0.000096  \n",
       "13582     0.0  +33.9783876  -118.2631028   0.041296    0.000096  \n",
       "274       0.0  +34.0074463  -118.2840710   0.027148    0.000046  \n",
       "5780      0.0  +34.0074463  -118.2840710   0.027148    0.000046  \n",
       "12410     0.0  +34.0074463  -118.2840710   0.027148    0.000046  \n",
       "\n",
       "[5 rows x 21 columns]"
      ]
     },
     "execution_count": 107,
     "metadata": {},
     "output_type": "execute_result"
    }
   ],
   "source": [
    "tobaccoShops_within_SLA.head()"
   ]
  },
  {
   "cell_type": "code",
   "execution_count": 119,
   "metadata": {},
   "outputs": [
    {
     "data": {
      "text/plain": [
       "<Geographic 2D CRS: EPSG:4269>\n",
       "Name: NAD83\n",
       "Axis Info [ellipsoidal]:\n",
       "- Lat[north]: Geodetic latitude (degree)\n",
       "- Lon[east]: Geodetic longitude (degree)\n",
       "Area of Use:\n",
       "- name: North America - NAD83\n",
       "- bounds: (167.65, 14.92, -47.74, 86.46)\n",
       "Datum: North American Datum 1983\n",
       "- Ellipsoid: GRS 1980\n",
       "- Prime Meridian: Greenwich"
      ]
     },
     "execution_count": 119,
     "metadata": {},
     "output_type": "execute_result"
    }
   ],
   "source": [
    "tobaccoShops_within_SLA.crs"
   ]
  },
  {
   "cell_type": "code",
   "execution_count": 121,
   "metadata": {},
   "outputs": [
    {
     "name": "stdout",
     "output_type": "stream",
     "text": [
      "<class 'geopandas.geodataframe.GeoDataFrame'>\n",
      "Int64Index: 376 entries, 11 to 22983\n",
      "Data columns (total 21 columns):\n",
      " #   Column       Non-Null Count  Dtype   \n",
      "---  ------       --------------  -----   \n",
      " 0   Unnamed: 0   376 non-null    int64   \n",
      " 1   X            376 non-null    float64 \n",
      " 2   Y            376 non-null    float64 \n",
      " 3   DBA          376 non-null    object  \n",
      " 4   geometry     376 non-null    geometry\n",
      " 5   index_right  376 non-null    int64   \n",
      " 6   OBJECTID     376 non-null    int64   \n",
      " 7   STATEFP      376 non-null    object  \n",
      " 8   COUNTYFP     376 non-null    object  \n",
      " 9   TRACTCE      376 non-null    object  \n",
      " 10  GEOID        376 non-null    object  \n",
      " 11  NAME         376 non-null    object  \n",
      " 12  NAMELSAD     376 non-null    object  \n",
      " 13  MTFCC        376 non-null    object  \n",
      " 14  FUNCSTAT     376 non-null    object  \n",
      " 15  ALAND        376 non-null    float64 \n",
      " 16  AWATER       376 non-null    float64 \n",
      " 17  INTPTLAT     376 non-null    object  \n",
      " 18  INTPTLON     376 non-null    object  \n",
      " 19  Shape_Leng   376 non-null    float64 \n",
      " 20  Shape_Area   376 non-null    float64 \n",
      "dtypes: float64(6), geometry(1), int64(3), object(11)\n",
      "memory usage: 64.6+ KB\n"
     ]
    }
   ],
   "source": [
    "tobaccoShops_within_SLA.info()"
   ]
  },
  {
   "cell_type": "code",
   "execution_count": 122,
   "metadata": {},
   "outputs": [],
   "source": [
    "tobaccoShops_within_SLA.to_csv('Output/CSV/tobaccoShops_within_SLA.csv', sep=',', encoding='utf-8', index = 'False')\n"
   ]
  },
  {
   "cell_type": "code",
   "execution_count": null,
   "metadata": {},
   "outputs": [],
   "source": []
  }
 ],
 "metadata": {
  "kernelspec": {
   "display_name": "Python 3",
   "language": "python",
   "name": "python3"
  },
  "language_info": {
   "codemirror_mode": {
    "name": "ipython",
    "version": 3
   },
   "file_extension": ".py",
   "mimetype": "text/x-python",
   "name": "python",
   "nbconvert_exporter": "python",
   "pygments_lexer": "ipython3",
   "version": "3.7.6"
  }
 },
 "nbformat": 4,
 "nbformat_minor": 4
}
