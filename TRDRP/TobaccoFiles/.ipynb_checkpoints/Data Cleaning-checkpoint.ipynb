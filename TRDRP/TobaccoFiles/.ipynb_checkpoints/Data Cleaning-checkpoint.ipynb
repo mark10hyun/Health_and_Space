{
 "cells": [
  {
   "cell_type": "code",
   "execution_count": 55,
   "metadata": {},
   "outputs": [],
   "source": [
    "import pandas as pd\n",
    "import plotnine\n",
    "import geopandas as gpd\n",
    "%matplotlib inline\n",
    "from shapely.geometry import Point"
   ]
  },
  {
   "cell_type": "code",
   "execution_count": 38,
   "metadata": {},
   "outputs": [
    {
     "data": {
      "text/plain": [
       "'/Users/markhyun/Desktop/GIS/TRDRP/TobaccoShops_Files '"
      ]
     },
     "execution_count": 38,
     "metadata": {},
     "output_type": "execute_result"
    }
   ],
   "source": [
    "pwd!"
   ]
  },
  {
   "cell_type": "code",
   "execution_count": 39,
   "metadata": {},
   "outputs": [],
   "source": [
    "TobaccoLocations = pd.read_csv('/Users/markhyun/Desktop/GIS/TRDRP/TobaccoShops_Files /Data/CSV/TobaccoSHP.csv')"
   ]
  },
  {
   "cell_type": "code",
   "execution_count": 40,
   "metadata": {},
   "outputs": [],
   "source": [
    "TobaccoLicsenses = pd.read_csv('/Users/markhyun/Desktop/GIS/TRDRP/TobaccoShops_Files /Data/CSV/TobaccoShopsAndLicsenses_SHP.csv')"
   ]
  },
  {
   "cell_type": "code",
   "execution_count": 41,
   "metadata": {},
   "outputs": [],
   "source": [
    "South_LA_Cities = []"
   ]
  },
  {
   "cell_type": "code",
   "execution_count": 42,
   "metadata": {},
   "outputs": [
    {
     "name": "stdout",
     "output_type": "stream",
     "text": [
      "<class 'pandas.core.frame.DataFrame'>\n",
      "RangeIndex: 516 entries, 0 to 515\n",
      "Data columns (total 94 columns):\n",
      " #   Column      Non-Null Count  Dtype  \n",
      "---  ------      --------------  -----  \n",
      " 0   Loc_name    513 non-null    object \n",
      " 1   Status      516 non-null    object \n",
      " 2   Score       516 non-null    float64\n",
      " 3   Match_type  516 non-null    object \n",
      " 4   Match_addr  513 non-null    object \n",
      " 5   LongLabel   513 non-null    object \n",
      " 6   ShortLabel  513 non-null    object \n",
      " 7   Addr_type   513 non-null    object \n",
      " 8   Type        0 non-null      float64\n",
      " 9   PlaceName   1 non-null      float64\n",
      " 10  Place_addr  513 non-null    object \n",
      " 11  Phone       0 non-null      float64\n",
      " 12  URL         0 non-null      float64\n",
      " 13  Rank        516 non-null    float64\n",
      " 14  AddBldg     0 non-null      float64\n",
      " 15  AddNum      510 non-null    object \n",
      " 16  AddNumFrom  83 non-null     float64\n",
      " 17  AddNumTo    83 non-null     float64\n",
      " 18  AddRange    83 non-null     object \n",
      " 19  Side        84 non-null     object \n",
      " 20  StPreDir    194 non-null    object \n",
      " 21  StPreType   1 non-null      object \n",
      " 22  StName      512 non-null    object \n",
      " 23  StType      504 non-null    object \n",
      " 24  StDir       3 non-null      object \n",
      " 25  BldgType    0 non-null      float64\n",
      " 26  BldgName    0 non-null      float64\n",
      " 27  LevelType   0 non-null      float64\n",
      " 28  LevelName   0 non-null      float64\n",
      " 29  UnitType    79 non-null     object \n",
      " 30  UnitName    79 non-null     object \n",
      " 31  SubAddr     79 non-null     object \n",
      " 32  StAddr      512 non-null    object \n",
      " 33  Block       0 non-null      float64\n",
      " 34  Sector      0 non-null      float64\n",
      " 35  Nbrhd       82 non-null     object \n",
      " 36  District    0 non-null      float64\n",
      " 37  City        513 non-null    object \n",
      " 38  MetroArea   86 non-null     object \n",
      " 39  Subregion   513 non-null    object \n",
      " 40  Region      513 non-null    object \n",
      " 41  RegionAbbr  513 non-null    object \n",
      " 42  Territory   0 non-null      float64\n",
      " 43  Zone        5 non-null      object \n",
      " 44  Postal      513 non-null    float64\n",
      " 45  PostalExt   485 non-null    float64\n",
      " 46  Country     513 non-null    object \n",
      " 47  LangCode    513 non-null    object \n",
      " 48  Distance    516 non-null    float64\n",
      " 49  X           516 non-null    float64\n",
      " 50  Y           516 non-null    float64\n",
      " 51  DisplayX    516 non-null    float64\n",
      " 52  DisplayY    516 non-null    float64\n",
      " 53  Xmin        516 non-null    float64\n",
      " 54  Xmax        516 non-null    float64\n",
      " 55  Ymin        516 non-null    float64\n",
      " 56  Ymax        516 non-null    float64\n",
      " 57  ExInfo      504 non-null    object \n",
      " 58  ARC_Addres  513 non-null    object \n",
      " 59  ARC_Addr_1  0 non-null      float64\n",
      " 60  ARC_Addr_2  0 non-null      float64\n",
      " 61  ARC_Neighb  0 non-null      float64\n",
      " 62  ARC_City    512 non-null    object \n",
      " 63  ARC_Subreg  0 non-null      float64\n",
      " 64  ARC_Region  0 non-null      float64\n",
      " 65  ARC_Postal  512 non-null    object \n",
      " 66  ARC_Post_1  0 non-null      float64\n",
      " 67  ARC_Countr  0 non-null      float64\n",
      " 68  Field1      516 non-null    int64  \n",
      " 69  BTRC        458 non-null    object \n",
      " 70  OWNER       462 non-null    object \n",
      " 71  DBA         501 non-null    object \n",
      " 72  ADDRESS     513 non-null    object \n",
      " 73  CITY_1      512 non-null    object \n",
      " 74  ZIP         512 non-null    object \n",
      " 75  CD          516 non-null    int64  \n",
      " 76  status_1    466 non-null    object \n",
      " 77  type_1      506 non-null    object \n",
      " 78  Field11     512 non-null    object \n",
      " 79  Comments    31 non-null     object \n",
      " 80  Field13     0 non-null      float64\n",
      " 81  Field14     1 non-null      object \n",
      " 82  Field15     0 non-null      float64\n",
      " 83  Field16     0 non-null      float64\n",
      " 84  Field17     0 non-null      float64\n",
      " 85  Field18     0 non-null      float64\n",
      " 86  Field19     0 non-null      float64\n",
      " 87  Field20     0 non-null      float64\n",
      " 88  Field21     0 non-null      float64\n",
      " 89  Field22     0 non-null      float64\n",
      " 90  Field23     0 non-null      float64\n",
      " 91  Field24     0 non-null      float64\n",
      " 92  Field25     0 non-null      float64\n",
      " 93  Field26     0 non-null      float64\n",
      "dtypes: float64(48), int64(2), object(44)\n",
      "memory usage: 379.1+ KB\n"
     ]
    },
    {
     "data": {
      "text/plain": [
       "Loc_name        3\n",
       "Status          0\n",
       "Score           0\n",
       "Match_type      0\n",
       "Match_addr      3\n",
       "             ... \n",
       "Field22       516\n",
       "Field23       516\n",
       "Field24       516\n",
       "Field25       516\n",
       "Field26       516\n",
       "Length: 94, dtype: int64"
      ]
     },
     "execution_count": 42,
     "metadata": {},
     "output_type": "execute_result"
    }
   ],
   "source": [
    "TobaccoLocations.head()\n",
    "TobaccoLocations.info()\n",
    "TobaccoLocations.isnull().sum()"
   ]
  },
  {
   "cell_type": "code",
   "execution_count": 43,
   "metadata": {},
   "outputs": [
    {
     "name": "stdout",
     "output_type": "stream",
     "text": [
      "<class 'pandas.core.frame.DataFrame'>\n",
      "RangeIndex: 22691 entries, 0 to 22690\n",
      "Data columns (total 9 columns):\n",
      " #   Column     Non-Null Count  Dtype  \n",
      "---  ------     --------------  -----  \n",
      " 0   X          22691 non-null  float64\n",
      " 1   Y          22691 non-null  float64\n",
      " 2   License__  22175 non-null  float64\n",
      " 3   Owner      22636 non-null  object \n",
      " 4   DBA        22546 non-null  object \n",
      " 5   Address    22687 non-null  object \n",
      " 6   City_1     22686 non-null  object \n",
      " 7   State      22686 non-null  object \n",
      " 8   Zip        22175 non-null  float64\n",
      "dtypes: float64(4), object(5)\n",
      "memory usage: 1.6+ MB\n"
     ]
    },
    {
     "data": {
      "text/plain": [
       "145"
      ]
     },
     "execution_count": 43,
     "metadata": {},
     "output_type": "execute_result"
    }
   ],
   "source": [
    "TobaccoLicsenses.head()\n",
    "TobaccoLicsenses.info()\n",
    "TobaccoLicsenses['DBA'].isnull().sum()"
   ]
  },
  {
   "cell_type": "code",
   "execution_count": 44,
   "metadata": {},
   "outputs": [],
   "source": [
    "#Isolating the features we want from each file.\n",
    "TobaccoLicsenses_DF = TobaccoLicsenses[['X','Y', 'DBA']]\n",
    "TobaccoLocations_DF = TobaccoLocations[['X','Y', 'DBA']]"
   ]
  },
  {
   "cell_type": "code",
   "execution_count": 45,
   "metadata": {},
   "outputs": [
    {
     "name": "stdout",
     "output_type": "stream",
     "text": [
      "<class 'pandas.core.frame.DataFrame'>\n",
      "Int64Index: 23207 entries, 0 to 515\n",
      "Data columns (total 3 columns):\n",
      " #   Column  Non-Null Count  Dtype  \n",
      "---  ------  --------------  -----  \n",
      " 0   X       23207 non-null  float64\n",
      " 1   Y       23207 non-null  float64\n",
      " 2   DBA     23047 non-null  object \n",
      "dtypes: float64(2), object(1)\n",
      "memory usage: 725.2+ KB\n"
     ]
    },
    {
     "data": {
      "text/plain": [
       "X        0\n",
       "Y        0\n",
       "DBA    160\n",
       "dtype: int64"
      ]
     },
     "execution_count": 45,
     "metadata": {},
     "output_type": "execute_result"
    }
   ],
   "source": [
    "#MUST DO THIS BEFORE RUNNING CODE BELOW#concat shops and liscences (x,y coords, doing bus name (DBA), Business name *rename so that both csv columns have the same busname in columnname)\n",
    "#AFTER concat save as csv in the output folder\n",
    "#ad it to south la shp\n",
    "combined = pd.concat([TobaccoLicsenses_DF, TobaccoLocations_DF], axis=0) #axis 0 = row bind / axis 1 = column bind\n",
    "#merged_inner = pd.merge(TobaccoLocations_DF,TobaccoLicsenses_DF, how = 'left', on=['DBA'])\n",
    "combined.info()\n",
    "combined.isnull().sum()\n",
    "#merged_inner_dups = merged_inner[merged_inner.duplicated(['DBA'])]\n",
    "#print(merged_inner_dups)\n",
    "#merged_inner.tail"
   ]
  },
  {
   "cell_type": "code",
   "execution_count": 46,
   "metadata": {},
   "outputs": [],
   "source": [
    "combined['DBA'].fillna('Missing Name', inplace = True)"
   ]
  },
  {
   "cell_type": "code",
   "execution_count": 47,
   "metadata": {},
   "outputs": [
    {
     "data": {
      "text/plain": [
       "X      0\n",
       "Y      0\n",
       "DBA    0\n",
       "dtype: int64"
      ]
     },
     "execution_count": 47,
     "metadata": {},
     "output_type": "execute_result"
    }
   ],
   "source": [
    "combined.isnull().sum()\n"
   ]
  },
  {
   "cell_type": "code",
   "execution_count": null,
   "metadata": {},
   "outputs": [],
   "source": []
  },
  {
   "cell_type": "code",
   "execution_count": 48,
   "metadata": {},
   "outputs": [
    {
     "data": {
      "text/plain": [
       "160"
      ]
     },
     "execution_count": 48,
     "metadata": {},
     "output_type": "execute_result"
    }
   ],
   "source": [
    "(combined.DBA =='Missing Name').sum()"
   ]
  },
  {
   "cell_type": "code",
   "execution_count": 49,
   "metadata": {},
   "outputs": [],
   "source": [
    "combined.to_csv('Output/CSV/mergedTobacco.csv', sep=',', encoding='utf-8', index = 'False')\n"
   ]
  },
  {
   "cell_type": "code",
   "execution_count": 70,
   "metadata": {},
   "outputs": [],
   "source": [
    "southLA=gpd.read_file('Data/SHP/South_LA/SLA_Tracts.shp')\n",
    "\n",
    "southLA.drop('geometry',axis=1).to_csv('Output/SHP/SouthLA_TractSHP.csv', index = False)"
   ]
  },
  {
   "cell_type": "code",
   "execution_count": 71,
   "metadata": {},
   "outputs": [],
   "source": [
    "#mergedTobacco_gdf = gpd.GeoDataFrame(combined,geometry = gpd.points_from_xy(combined['X'],combined['Y']))"
   ]
  },
  {
   "cell_type": "code",
   "execution_count": null,
   "metadata": {},
   "outputs": [],
   "source": [
    "\n",
    "geometry = [Point(xy) for xy in zip(combined.X, combined.Y)]\n",
    "hg = GeoDataFrame(combined, geometry=geometry)\n",
    "\n",
    "hg.crs = {'init' :'epsg:4326'}  \n",
    "# ^ comment out to get a \"Cannot transform naive geometries\" error below\n",
    "\n",
    "# project to merkator\n",
    "hg.to_crs({'init': 'epsg:3395'})"
   ]
  },
  {
   "cell_type": "code",
   "execution_count": 72,
   "metadata": {},
   "outputs": [
    {
     "data": {
      "text/plain": [
       "<matplotlib.axes._subplots.AxesSubplot at 0x7fd955183490>"
      ]
     },
     "execution_count": 72,
     "metadata": {},
     "output_type": "execute_result"
    },
    {
     "data": {
      "image/png": "[encoded data removed]",
      "text/plain": [
       "<Figure size 432x288 with 1 Axes>"
      ]
     },
     "metadata": {
      "needs_background": "light"
     },
     "output_type": "display_data"
    }
   ],
   "source": [
    "mergedTobacco_gdf.plot()"
   ]
  },
  {
   "cell_type": "code",
   "execution_count": 73,
   "metadata": {},
   "outputs": [
    {
     "data": {
      "text/plain": [
       "<matplotlib.axes._subplots.AxesSubplot at 0x7fd9551d6110>"
      ]
     },
     "execution_count": 73,
     "metadata": {},
     "output_type": "execute_result"
    },
    {
     "data": {
      "image/png": "[encoded data removed]",
      "text/plain": [
       "<Figure size 432x288 with 1 Axes>"
      ]
     },
     "metadata": {
      "needs_background": "light"
     },
     "output_type": "display_data"
    }
   ],
   "source": [
    "southLA.plot()"
   ]
  },
  {
   "cell_type": "code",
   "execution_count": 76,
   "metadata": {},
   "outputs": [
    {
     "data": {
      "text/plain": [
       "<bound method NDFrame.head of      OBJECTID STATEFP COUNTYFP TRACTCE        GEOID     NAME  \\\n",
       "0           1      06      037  237201  06037237201  2372.01   \n",
       "1           2      06      037  239201  06037239201  2392.01   \n",
       "2           3      06      037  239601  06037239601  2396.01   \n",
       "3           4      06      037  237300  06037237300     2373   \n",
       "4           5      06      037  227010  06037227010  2270.10   \n",
       "..        ...     ...      ...     ...          ...      ...   \n",
       "113       114      06      037  533002  06037533002  5330.02   \n",
       "114       115      06      037  535002  06037535002  5350.02   \n",
       "115       116      06      037  242000  06037242000     2420   \n",
       "116       117      06      037  232120  06037232120  2321.20   \n",
       "117       118      06      037  532700  06037532700     5327   \n",
       "\n",
       "                 NAMELSAD  MTFCC FUNCSTAT     ALAND  AWATER     INTPTLAT  \\\n",
       "0    Census Tract 2372.01  G5020        S  453406.0     0.0  +33.9857256   \n",
       "1    Census Tract 2392.01  G5020        S  449869.0     0.0  +33.9857805   \n",
       "2    Census Tract 2396.01  G5020        S  422289.0     0.0  +33.9728370   \n",
       "3       Census Tract 2373  G5020        S  997691.0     0.0  +33.9782832   \n",
       "4    Census Tract 2270.10  G5020        S  579198.0     0.0  +34.0185256   \n",
       "..                    ...    ...      ...       ...     ...          ...   \n",
       "113  Census Tract 5330.02  G5020        S  485248.0     0.0  +33.9774893   \n",
       "114  Census Tract 5350.02  G5020        S  483255.0     0.0  +33.9711665   \n",
       "115     Census Tract 2420  G5020        S  646734.0     0.0  +33.9392821   \n",
       "116  Census Tract 2321.20  G5020        S  521876.0     0.0  +33.9996748   \n",
       "117     Census Tract 5327  G5020        S  771359.0     0.0  +33.9852598   \n",
       "\n",
       "         INTPTLON  Shape_Leng  Shape_Area  \\\n",
       "0    -118.2991149    0.026608    0.000044   \n",
       "1    -118.2771699    0.026609    0.000044   \n",
       "2    -118.2752978    0.030094    0.000041   \n",
       "3    -118.3110714    0.041349    0.000097   \n",
       "4    -118.2469968    0.036961    0.000057   \n",
       "..            ...         ...         ...   \n",
       "113  -118.2391516    0.028294    0.000047   \n",
       "114  -118.2465194    0.027826    0.000047   \n",
       "115  -118.2502155    0.031553    0.000063   \n",
       "116  -118.2839315    0.028889    0.000051   \n",
       "117  -118.2413457    0.041378    0.000075   \n",
       "\n",
       "                                              geometry  \n",
       "0    POLYGON ((-118.30240 33.98325, -118.30239 33.9...  \n",
       "1    POLYGON ((-118.28047 33.98286, -118.28045 33.9...  \n",
       "2    POLYGON ((-118.28071 33.97467, -118.28023 33.9...  \n",
       "3    POLYGON ((-118.31775 33.97502, -118.31774 33.9...  \n",
       "4    POLYGON ((-118.25427 34.02038, -118.25412 34.0...  \n",
       "..                                                 ...  \n",
       "113  POLYGON ((-118.24335 33.97956, -118.24335 33.9...  \n",
       "114  POLYGON ((-118.24990 33.97077, -118.24990 33.9...  \n",
       "115  POLYGON ((-118.25418 33.93680, -118.25417 33.9...  \n",
       "116  POLYGON ((-118.28713 33.99644, -118.28709 33.9...  \n",
       "117  POLYGON ((-118.24775 33.98946, -118.24775 33.9...  \n",
       "\n",
       "[118 rows x 16 columns]>"
      ]
     },
     "execution_count": 76,
     "metadata": {},
     "output_type": "execute_result"
    }
   ],
   "source": [
    "southLA.head"
   ]
  },
  {
   "cell_type": "code",
   "execution_count": 77,
   "metadata": {},
   "outputs": [
    {
     "data": {
      "text/plain": [
       "<Geographic 2D CRS: EPSG:4269>\n",
       "Name: NAD83\n",
       "Axis Info [ellipsoidal]:\n",
       "- Lat[north]: Geodetic latitude (degree)\n",
       "- Lon[east]: Geodetic longitude (degree)\n",
       "Area of Use:\n",
       "- name: North America - NAD83\n",
       "- bounds: (167.65, 14.92, -47.74, 86.46)\n",
       "Datum: North American Datum 1983\n",
       "- Ellipsoid: GRS 1980\n",
       "- Prime Meridian: Greenwich"
      ]
     },
     "execution_count": 77,
     "metadata": {},
     "output_type": "execute_result"
    }
   ],
   "source": [
    "southLA.crs"
   ]
  },
  {
   "cell_type": "code",
   "execution_count": 82,
   "metadata": {},
   "outputs": [],
   "source": [
    "mergedTobacco_gdf.crs"
   ]
  },
  {
   "cell_type": "code",
   "execution_count": 81,
   "metadata": {},
   "outputs": [
    {
     "ename": "ValueError",
     "evalue": "Cannot transform naive geometries.  Please set a crs on the object first.",
     "output_type": "error",
     "traceback": [
      "\u001b[0;31m---------------------------------------------------------------------------\u001b[0m",
      "\u001b[0;31mValueError\u001b[0m                                Traceback (most recent call last)",
      "\u001b[0;32m<ipython-input-81-5eea4dc3fc91>\u001b[0m in \u001b[0;36m<module>\u001b[0;34m\u001b[0m\n\u001b[0;32m----> 1\u001b[0;31m \u001b[0mmergedTobacco_gdf\u001b[0m\u001b[0;34m.\u001b[0m\u001b[0mto_crs\u001b[0m\u001b[0;34m(\u001b[0m\u001b[0;34m{\u001b[0m\u001b[0;34m'Geographic 2D CRS'\u001b[0m\u001b[0;34m:\u001b[0m \u001b[0;34m'EPSG:4269'\u001b[0m\u001b[0;34m}\u001b[0m\u001b[0;34m)\u001b[0m\u001b[0;34m\u001b[0m\u001b[0;34m\u001b[0m\u001b[0m\n\u001b[0m",
      "\u001b[0;32m~/opt/anaconda3/lib/python3.7/site-packages/geopandas/geodataframe.py\u001b[0m in \u001b[0;36mto_crs\u001b[0;34m(self, crs, epsg, inplace)\u001b[0m\n\u001b[1;32m    562\u001b[0m         \u001b[0;32melse\u001b[0m\u001b[0;34m:\u001b[0m\u001b[0;34m\u001b[0m\u001b[0;34m\u001b[0m\u001b[0m\n\u001b[1;32m    563\u001b[0m             \u001b[0mdf\u001b[0m \u001b[0;34m=\u001b[0m \u001b[0mself\u001b[0m\u001b[0;34m.\u001b[0m\u001b[0mcopy\u001b[0m\u001b[0;34m(\u001b[0m\u001b[0;34m)\u001b[0m\u001b[0;34m\u001b[0m\u001b[0;34m\u001b[0m\u001b[0m\n\u001b[0;32m--> 564\u001b[0;31m         \u001b[0mgeom\u001b[0m \u001b[0;34m=\u001b[0m \u001b[0mdf\u001b[0m\u001b[0;34m.\u001b[0m\u001b[0mgeometry\u001b[0m\u001b[0;34m.\u001b[0m\u001b[0mto_crs\u001b[0m\u001b[0;34m(\u001b[0m\u001b[0mcrs\u001b[0m\u001b[0;34m=\u001b[0m\u001b[0mcrs\u001b[0m\u001b[0;34m,\u001b[0m \u001b[0mepsg\u001b[0m\u001b[0;34m=\u001b[0m\u001b[0mepsg\u001b[0m\u001b[0;34m)\u001b[0m\u001b[0;34m\u001b[0m\u001b[0;34m\u001b[0m\u001b[0m\n\u001b[0m\u001b[1;32m    565\u001b[0m         \u001b[0mdf\u001b[0m\u001b[0;34m.\u001b[0m\u001b[0mgeometry\u001b[0m \u001b[0;34m=\u001b[0m \u001b[0mgeom\u001b[0m\u001b[0;34m\u001b[0m\u001b[0;34m\u001b[0m\u001b[0m\n\u001b[1;32m    566\u001b[0m         \u001b[0mdf\u001b[0m\u001b[0;34m.\u001b[0m\u001b[0mcrs\u001b[0m \u001b[0;34m=\u001b[0m \u001b[0mgeom\u001b[0m\u001b[0;34m.\u001b[0m\u001b[0mcrs\u001b[0m\u001b[0;34m\u001b[0m\u001b[0;34m\u001b[0m\u001b[0m\n",
      "\u001b[0;32m~/opt/anaconda3/lib/python3.7/site-packages/geopandas/geoseries.py\u001b[0m in \u001b[0;36mto_crs\u001b[0;34m(self, crs, epsg)\u001b[0m\n\u001b[1;32m    420\u001b[0m         \u001b[0;32mif\u001b[0m \u001b[0mself\u001b[0m\u001b[0;34m.\u001b[0m\u001b[0mcrs\u001b[0m \u001b[0;32mis\u001b[0m \u001b[0;32mNone\u001b[0m\u001b[0;34m:\u001b[0m\u001b[0;34m\u001b[0m\u001b[0;34m\u001b[0m\u001b[0m\n\u001b[1;32m    421\u001b[0m             raise ValueError(\n\u001b[0;32m--> 422\u001b[0;31m                 \u001b[0;34m\"Cannot transform naive geometries.  \"\u001b[0m\u001b[0;34m\u001b[0m\u001b[0;34m\u001b[0m\u001b[0m\n\u001b[0m\u001b[1;32m    423\u001b[0m                 \u001b[0;34m\"Please set a crs on the object first.\"\u001b[0m\u001b[0;34m\u001b[0m\u001b[0;34m\u001b[0m\u001b[0m\n\u001b[1;32m    424\u001b[0m             )\n",
      "\u001b[0;31mValueError\u001b[0m: Cannot transform naive geometries.  Please set a crs on the object first."
     ]
    }
   ],
   "source": [
    "mergedTobacco_gdf.to_crs({'Geographic 2D CRS': 'EPSG:4269'})"
   ]
  },
  {
   "cell_type": "code",
   "execution_count": null,
   "metadata": {},
   "outputs": [],
   "source": []
  },
  {
   "cell_type": "code",
   "execution_count": 68,
   "metadata": {},
   "outputs": [
    {
     "name": "stderr",
     "output_type": "stream",
     "text": [
      "/Users/markhyun/opt/anaconda3/lib/python3.7/site-packages/geopandas/tools/sjoin.py:61: UserWarning: CRS of frames being joined does not match!(None != epsg:4269)\n",
      "  \"(%s != %s)\" % (left_df.crs, right_df.crs)\n"
     ]
    }
   ],
   "source": [
    "tobaccoShopes_within_SLA = gpd.sjoin(mergedTobacco_gdf,tobaccoFile, how = 'inner', op = 'within')"
   ]
  },
  {
   "cell_type": "code",
   "execution_count": null,
   "metadata": {},
   "outputs": [],
   "source": []
  }
 ],
 "metadata": {
  "kernelspec": {
   "display_name": "Python 3",
   "language": "python",
   "name": "python3"
  },
  "language_info": {
   "codemirror_mode": {
    "name": "ipython",
    "version": 3
   },
   "file_extension": ".py",
   "mimetype": "text/x-python",
   "name": "python",
   "nbconvert_exporter": "python",
   "pygments_lexer": "ipython3",
   "version": "3.7.6"
  }
 },
 "nbformat": 4,
 "nbformat_minor": 4
}
