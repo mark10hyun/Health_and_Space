{
 "cells": [
  {
   "cell_type": "code",
   "execution_count": null,
   "metadata": {},
   "outputs": [],
   "source": [
    "# Alcohol Data Source https://www.abc.ca.gov/licensing/licensing-reports/licenses-by-county/\n",
    "##Data Cleaning For Alcohol Licsences"
   ]
  },
  {
   "cell_type": "code",
   "execution_count": 74,
   "metadata": {},
   "outputs": [],
   "source": [
    "import pandas as pd\n",
    "import plotnine\n",
    "import geopandas as gpd"
   ]
  },
  {
   "cell_type": "code",
   "execution_count": 75,
   "metadata": {},
   "outputs": [],
   "source": [
    "laCounty_Alch_Licences = pd.read_csv('/Users/markhyun/Desktop/GIS/TRDRP/CA_ABC_LicenseReport.csv')"
   ]
  },
  {
   "cell_type": "code",
   "execution_count": 76,
   "metadata": {},
   "outputs": [],
   "source": [
    "# Issue: \n",
    "        #Need address for geocoding in ArcMaps, but based off our data set, the address is messy"
   ]
  },
  {
   "cell_type": "code",
   "execution_count": 77,
   "metadata": {},
   "outputs": [
    {
     "name": "stdout",
     "output_type": "stream",
     "text": [
      "                              0              1  \\\n",
      "0         4407 W JEFFERSON BLVD    LOS ANGELES   \n",
      "1             5465 DEL AMO BLVD       LAKEWOOD   \n",
      "2            2647 FOOTHILL BLVD   LA CRESCENTA   \n",
      "3            18 PEBBLY BEACH RD         AVALON   \n",
      "4           3150 W OLYMPIC BLVD    LOS ANGELES   \n",
      "...                         ...            ...   \n",
      "6245           19340 RINALDI ST     NORTHRIDGE   \n",
      "6246  2632 E CESAR E CHAVEZ AVE    LOS ANGELES   \n",
      "6247        5901 HOLLYWOOD BLVD    LOS ANGELES   \n",
      "6248            23406 LYONS AVE  SANTA CLARITA   \n",
      "6249       5440 LONG BEACH BLVD     LONG BEACH   \n",
      "\n",
      "                                          2     3     4     5  \n",
      "0           CA  90016Census Tract:  2200.00  None  None  None  \n",
      "1           CA  90712Census Tract:  5708.00  None  None  None  \n",
      "2           CA  91214Census Tract:  3002.00  None  None  None  \n",
      "3           CA  90704Census Tract:  5990.00  None  None  None  \n",
      "4           CA  90006Census Tract:  2132.01  None  None  None  \n",
      "...                                     ...   ...   ...   ...  \n",
      "6245   CA  91326-1607Census Tract:  1081.02  None  None  None  \n",
      "6246   CA  90033-3006Census Tract:  2042.00  None  None  None  \n",
      "6247        CA  90028Census Tract:  1910.00  None  None  None  \n",
      "6248   CA  91321-2511Census Tract:  9203.12  None  None  None  \n",
      "6249        CA  90805Census Tract:  5703.04  None  None  None  \n",
      "\n",
      "[6250 rows x 6 columns]\n"
     ]
    }
   ],
   "source": [
    "#Isolated the Address Column and created a DF called Store Address and split the values inside by','\n",
    "store_Address = laCounty_Alch_Licences['Premises Addr.'].str.split(\",\",expand=True)\n",
    "print(store_Address)"
   ]
  },
  {
   "cell_type": "code",
   "execution_count": 78,
   "metadata": {},
   "outputs": [],
   "source": [
    "# Label the columns from our store address df, we need for cleaning to get our address"
   ]
  },
  {
   "cell_type": "code",
   "execution_count": 79,
   "metadata": {},
   "outputs": [
    {
     "data": {
      "text/plain": [
       "Index(['Address', 'City', 'ZipCode', 'Census Tract #', 'n/a', 'n/a'], dtype='object')"
      ]
     },
     "execution_count": 79,
     "metadata": {},
     "output_type": "execute_result"
    }
   ],
   "source": [
    "store_Address.columns = ['Address','City', 'ZipCode', 'Census Tract #', 'n/a','n/a']\n",
    "store_Address.head()\n",
    "store_Address.columns"
   ]
  },
  {
   "cell_type": "code",
   "execution_count": 80,
   "metadata": {},
   "outputs": [],
   "source": [
    "# Isolate the columns we need for cleaning to get our address"
   ]
  },
  {
   "cell_type": "code",
   "execution_count": 81,
   "metadata": {},
   "outputs": [
    {
     "name": "stdout",
     "output_type": "stream",
     "text": [
      "                        Address           City  \\\n",
      "0         4407 W JEFFERSON BLVD    LOS ANGELES   \n",
      "1             5465 DEL AMO BLVD       LAKEWOOD   \n",
      "2            2647 FOOTHILL BLVD   LA CRESCENTA   \n",
      "3            18 PEBBLY BEACH RD         AVALON   \n",
      "4           3150 W OLYMPIC BLVD    LOS ANGELES   \n",
      "...                         ...            ...   \n",
      "6245           19340 RINALDI ST     NORTHRIDGE   \n",
      "6246  2632 E CESAR E CHAVEZ AVE    LOS ANGELES   \n",
      "6247        5901 HOLLYWOOD BLVD    LOS ANGELES   \n",
      "6248            23406 LYONS AVE  SANTA CLARITA   \n",
      "6249       5440 LONG BEACH BLVD     LONG BEACH   \n",
      "\n",
      "                                    ZipCode  \n",
      "0           CA  90016Census Tract:  2200.00  \n",
      "1           CA  90712Census Tract:  5708.00  \n",
      "2           CA  91214Census Tract:  3002.00  \n",
      "3           CA  90704Census Tract:  5990.00  \n",
      "4           CA  90006Census Tract:  2132.01  \n",
      "...                                     ...  \n",
      "6245   CA  91326-1607Census Tract:  1081.02  \n",
      "6246   CA  90033-3006Census Tract:  2042.00  \n",
      "6247        CA  90028Census Tract:  1910.00  \n",
      "6248   CA  91321-2511Census Tract:  9203.12  \n",
      "6249        CA  90805Census Tract:  5703.04  \n",
      "\n",
      "[6250 rows x 3 columns]\n"
     ]
    }
   ],
   "source": [
    "store_Address=store_Address[['Address','City', 'ZipCode']]\n",
    "print(store_Address)"
   ]
  },
  {
   "cell_type": "code",
   "execution_count": 82,
   "metadata": {},
   "outputs": [],
   "source": [
    "#Zipcode Column is messy. We need to retrieve the Zip Code and State from this df.\n",
    "#We did so by isolating the column and splitting the string into own colum"
   ]
  },
  {
   "cell_type": "code",
   "execution_count": 83,
   "metadata": {},
   "outputs": [
    {
     "name": "stdout",
     "output_type": "stream",
     "text": [
      "     0    1 2                  3       4 5         6\n",
      "0        CA          90016Census  Tract:     2200.00\n",
      "1        CA          90712Census  Tract:     5708.00\n",
      "2        CA          91214Census  Tract:     3002.00\n",
      "3        CA          90704Census  Tract:     5990.00\n",
      "4        CA          90006Census  Tract:     2132.01\n",
      "...  ..  .. ..               ...     ... ..      ...\n",
      "6245     CA     91326-1607Census  Tract:     1081.02\n",
      "6246     CA     90033-3006Census  Tract:     2042.00\n",
      "6247     CA          90028Census  Tract:     1910.00\n",
      "6248     CA     91321-2511Census  Tract:     9203.12\n",
      "6249     CA          90805Census  Tract:     5703.04\n",
      "\n",
      "[6250 rows x 7 columns]\n"
     ]
    }
   ],
   "source": [
    "splittingZip = store_Address['ZipCode'].str.split(\" \",expand=True)\n",
    "print(splittingZip)"
   ]
  },
  {
   "cell_type": "code",
   "execution_count": 84,
   "metadata": {},
   "outputs": [
    {
     "name": "stdout",
     "output_type": "stream",
     "text": [
      "       1                 3\n",
      "0     CA       90016Census\n",
      "1     CA       90712Census\n",
      "2     CA       91214Census\n",
      "3     CA       90704Census\n",
      "4     CA       90006Census\n",
      "...   ..               ...\n",
      "6245  CA  91326-1607Census\n",
      "6246  CA  90033-3006Census\n",
      "6247  CA       90028Census\n",
      "6248  CA  91321-2511Census\n",
      "6249  CA       90805Census\n",
      "\n",
      "[6250 rows x 2 columns]\n"
     ]
    }
   ],
   "source": [
    "#Isolating the columns we need State and Zip\n",
    "splittingZip=splittingZip[[1,3]]\n",
    "print(splittingZip)"
   ]
  },
  {
   "cell_type": "code",
   "execution_count": 85,
   "metadata": {},
   "outputs": [
    {
     "name": "stdout",
     "output_type": "stream",
     "text": [
      "                        Address           City  \\\n",
      "0         4407 W JEFFERSON BLVD    LOS ANGELES   \n",
      "1             5465 DEL AMO BLVD       LAKEWOOD   \n",
      "2            2647 FOOTHILL BLVD   LA CRESCENTA   \n",
      "3            18 PEBBLY BEACH RD         AVALON   \n",
      "4           3150 W OLYMPIC BLVD    LOS ANGELES   \n",
      "...                         ...            ...   \n",
      "6245           19340 RINALDI ST     NORTHRIDGE   \n",
      "6246  2632 E CESAR E CHAVEZ AVE    LOS ANGELES   \n",
      "6247        5901 HOLLYWOOD BLVD    LOS ANGELES   \n",
      "6248            23406 LYONS AVE  SANTA CLARITA   \n",
      "6249       5440 LONG BEACH BLVD     LONG BEACH   \n",
      "\n",
      "                                    ZipCode State  \n",
      "0           CA  90016Census Tract:  2200.00    CA  \n",
      "1           CA  90712Census Tract:  5708.00    CA  \n",
      "2           CA  91214Census Tract:  3002.00    CA  \n",
      "3           CA  90704Census Tract:  5990.00    CA  \n",
      "4           CA  90006Census Tract:  2132.01    CA  \n",
      "...                                     ...   ...  \n",
      "6245   CA  91326-1607Census Tract:  1081.02    CA  \n",
      "6246   CA  90033-3006Census Tract:  2042.00    CA  \n",
      "6247        CA  90028Census Tract:  1910.00    CA  \n",
      "6248   CA  91321-2511Census Tract:  9203.12    CA  \n",
      "6249        CA  90805Census Tract:  5703.04    CA  \n",
      "\n",
      "[6250 rows x 4 columns]\n"
     ]
    }
   ],
   "source": [
    "#Added State column to our  DF\n",
    "store_Address['State'] =splittingZip[1]\n",
    "print(store_Address)\n"
   ]
  },
  {
   "cell_type": "code",
   "execution_count": 86,
   "metadata": {},
   "outputs": [
    {
     "name": "stdout",
     "output_type": "stream",
     "text": [
      "                        Address           City  \\\n",
      "0         4407 W JEFFERSON BLVD    LOS ANGELES   \n",
      "1             5465 DEL AMO BLVD       LAKEWOOD   \n",
      "2            2647 FOOTHILL BLVD   LA CRESCENTA   \n",
      "3            18 PEBBLY BEACH RD         AVALON   \n",
      "4           3150 W OLYMPIC BLVD    LOS ANGELES   \n",
      "...                         ...            ...   \n",
      "6245           19340 RINALDI ST     NORTHRIDGE   \n",
      "6246  2632 E CESAR E CHAVEZ AVE    LOS ANGELES   \n",
      "6247        5901 HOLLYWOOD BLVD    LOS ANGELES   \n",
      "6248            23406 LYONS AVE  SANTA CLARITA   \n",
      "6249       5440 LONG BEACH BLVD     LONG BEACH   \n",
      "\n",
      "                                    ZipCode State ZipCode1  \n",
      "0           CA  90016Census Tract:  2200.00    CA     9001  \n",
      "1           CA  90712Census Tract:  5708.00    CA     9071  \n",
      "2           CA  91214Census Tract:  3002.00    CA     9121  \n",
      "3           CA  90704Census Tract:  5990.00    CA     9070  \n",
      "4           CA  90006Census Tract:  2132.01    CA     9000  \n",
      "...                                     ...   ...      ...  \n",
      "6245   CA  91326-1607Census Tract:  1081.02    CA     9132  \n",
      "6246   CA  90033-3006Census Tract:  2042.00    CA     9003  \n",
      "6247        CA  90028Census Tract:  1910.00    CA     9002  \n",
      "6248   CA  91321-2511Census Tract:  9203.12    CA     9132  \n",
      "6249        CA  90805Census Tract:  5703.04    CA     9080  \n",
      "\n",
      "[6250 rows x 5 columns]\n"
     ]
    }
   ],
   "source": [
    "#Took the messy Zip code colum and sliced the string to the first 5 indeces of the value to get our zip\n",
    "#Added our cleaned zipcode to our  df\n",
    "store_Address['ZipCode1'] =splittingZip[3].str.slice(0, 4)\n",
    "print(store_Address)"
   ]
  },
  {
   "cell_type": "code",
   "execution_count": 87,
   "metadata": {},
   "outputs": [
    {
     "name": "stdout",
     "output_type": "stream",
     "text": [
      "                        Address           City ZipCode1 State\n",
      "0         4407 W JEFFERSON BLVD    LOS ANGELES     9001    CA\n",
      "1             5465 DEL AMO BLVD       LAKEWOOD     9071    CA\n",
      "2            2647 FOOTHILL BLVD   LA CRESCENTA     9121    CA\n",
      "3            18 PEBBLY BEACH RD         AVALON     9070    CA\n",
      "4           3150 W OLYMPIC BLVD    LOS ANGELES     9000    CA\n",
      "...                         ...            ...      ...   ...\n",
      "6245           19340 RINALDI ST     NORTHRIDGE     9132    CA\n",
      "6246  2632 E CESAR E CHAVEZ AVE    LOS ANGELES     9003    CA\n",
      "6247        5901 HOLLYWOOD BLVD    LOS ANGELES     9002    CA\n",
      "6248            23406 LYONS AVE  SANTA CLARITA     9132    CA\n",
      "6249       5440 LONG BEACH BLVD     LONG BEACH     9080    CA\n",
      "\n",
      "[6250 rows x 4 columns]\n"
     ]
    }
   ],
   "source": [
    "#Isolated the columns we needed\n",
    "store_Address=store_Address[['Address','City', 'ZipCode1', 'State']]\n",
    "print(store_Address)"
   ]
  },
  {
   "cell_type": "code",
   "execution_count": 88,
   "metadata": {},
   "outputs": [
    {
     "name": "stdout",
     "output_type": "stream",
     "text": [
      "      License Number  Status  License Type Orig. Iss. Date Expir. Date  \\\n",
      "0                914  ACTIVE            21      03/13/1978  04/30/2021   \n",
      "1               1319  ACTIVE            21      05/01/1977  09/30/2020   \n",
      "2               2815  ACTIVE            21      03/18/1963  06/30/2020   \n",
      "3               3541  ACTIVE            20      01/18/1979  01/31/2021   \n",
      "4               3766  ACTIVE            20      12/01/1976  06/30/2020   \n",
      "...              ...     ...           ...             ...         ...   \n",
      "6245          616056  ACTIVE            20      05/01/2020  04/30/2021   \n",
      "6246          616172  ACTIVE            20      05/13/2020  04/30/2021   \n",
      "6247          616484  ACTIVE            21      04/23/2020  05/31/2021   \n",
      "6248          616582  ACTIVE            21      05/21/2020  06/30/2020   \n",
      "6249          616665  ACTIVE            21      05/19/2020  05/31/2021   \n",
      "\n",
      "                 Primary Owner  \\\n",
      "0            WILLIAMS, LINDA D   \n",
      "1        CHAREUNSOUK, KHANITHA   \n",
      "2        THRIFTY PAYLESS, INC.   \n",
      "3     CATALINA BEVERAGE CO INC   \n",
      "4                   SIM, HAE I   \n",
      "...                        ...   \n",
      "6245         AMAZON RETAIL LLC   \n",
      "6246             SAKURA BD INC   \n",
      "6247     KASSA, LEALEM TESSEMA   \n",
      "6248              7 ELEVEN INC   \n",
      "6249               AKTAR, SIMA   \n",
      "\n",
      "                                         Premises Addr.  \\\n",
      "0     4407 W JEFFERSON BLVD,LOS ANGELES, CA  90016Ce...   \n",
      "1     5465 DEL AMO BLVD,LAKEWOOD, CA  90712Census Tr...   \n",
      "2     2647 FOOTHILL BLVD,LA CRESCENTA, CA  91214Cens...   \n",
      "3     18 PEBBLY BEACH RD,AVALON, CA  90704Census Tra...   \n",
      "4     3150 W OLYMPIC BLVD,LOS ANGELES, CA  90006Cens...   \n",
      "...                                                 ...   \n",
      "6245  19340 RINALDI ST,NORTHRIDGE, CA  91326-1607Cen...   \n",
      "6246  2632 E CESAR E CHAVEZ AVE,LOS ANGELES, CA  900...   \n",
      "6247  5901 HOLLYWOOD BLVD,LOS ANGELES, CA  90028Cens...   \n",
      "6248  23406 LYONS AVE,SANTA CLARITA, CA  91321-2511C...   \n",
      "6249  5440 LONG BEACH BLVD,LONG BEACH, CA  90805Cens...   \n",
      "\n",
      "                   Business Name  Geo Code                    Address  \\\n",
      "0                     PGS LIQUOR      1933      4407 W JEFFERSON BLVD   \n",
      "1          MR & MS LIQUOR MARKET      1929          5465 DEL AMO BLVD   \n",
      "2            RITE AID STORE 5538      1900         2647 FOOTHILL BLVD   \n",
      "3       CATALINA BEVERAGE CO INC      1900         18 PEBBLY BEACH RD   \n",
      "4            SSK INVESTMENTS LLC      1933        3150 W OLYMPIC BLVD   \n",
      "...                          ...       ...                        ...   \n",
      "6245                         NaN      1933           19340 RINALDI ST   \n",
      "6246               SAKURA BD INC      1933  2632 E CESAR E CHAVEZ AVE   \n",
      "6247             LIQUOR TO GO GO      1933        5901 HOLLYWOOD BLVD   \n",
      "6248  7-ELEVEN STORE #2133-39090      1985            23406 LYONS AVE   \n",
      "6249                 LIQUOR MILL      1932       5440 LONG BEACH BLVD   \n",
      "\n",
      "               City Zipcode State  \n",
      "0       LOS ANGELES    9001    CA  \n",
      "1          LAKEWOOD    9071    CA  \n",
      "2      LA CRESCENTA    9121    CA  \n",
      "3            AVALON    9070    CA  \n",
      "4       LOS ANGELES    9000    CA  \n",
      "...             ...     ...   ...  \n",
      "6245     NORTHRIDGE    9132    CA  \n",
      "6246    LOS ANGELES    9003    CA  \n",
      "6247    LOS ANGELES    9002    CA  \n",
      "6248  SANTA CLARITA    9132    CA  \n",
      "6249     LONG BEACH    9080    CA  \n",
      "\n",
      "[6250 rows x 13 columns]\n"
     ]
    }
   ],
   "source": [
    "#Added these to our orig DF\n",
    "laCounty_Alch_Licences['Address'] = store_Address['Address']\n",
    "laCounty_Alch_Licences['City'] = store_Address['City']\n",
    "laCounty_Alch_Licences['Zipcode'] = store_Address['ZipCode1']\n",
    "laCounty_Alch_Licences['State'] = store_Address['State']\n",
    "print(laCounty_Alch_Licences)"
   ]
  },
  {
   "cell_type": "code",
   "execution_count": 89,
   "metadata": {},
   "outputs": [],
   "source": [
    "#Created a csv\n",
    "laCounty_Alch_Licences.to_csv('cleanAlcLicences.csv', sep=',', encoding='utf-8', index = 'False')\n"
   ]
  },
  {
   "cell_type": "code",
   "execution_count": null,
   "metadata": {},
   "outputs": [],
   "source": []
  }
 ],
 "metadata": {
  "kernelspec": {
   "display_name": "Python 3",
   "language": "python",
   "name": "python3"
  },
  "language_info": {
   "codemirror_mode": {
    "name": "ipython",
    "version": 3
   },
   "file_extension": ".py",
   "mimetype": "text/x-python",
   "name": "python",
   "nbconvert_exporter": "python",
   "pygments_lexer": "ipython3",
   "version": "3.7.6"
  }
 },
 "nbformat": 4,
 "nbformat_minor": 4
}
