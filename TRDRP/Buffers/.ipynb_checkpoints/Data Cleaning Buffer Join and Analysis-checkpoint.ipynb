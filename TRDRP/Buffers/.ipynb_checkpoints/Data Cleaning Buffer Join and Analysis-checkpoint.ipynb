{
 "cells": [
  {
   "cell_type": "code",
   "execution_count": 20,
   "metadata": {},
   "outputs": [],
   "source": [
    "import pandas as pd\n",
    "import plotnine\n",
    "import geopandas as gpd\n",
    "%matplotlib inline\n",
    "from shapely.geometry import Point"
   ]
  },
  {
   "cell_type": "code",
   "execution_count": 2,
   "metadata": {},
   "outputs": [
    {
     "data": {
      "text/plain": [
       "'/Users/markhyun/Desktop/HealthandSpaceLab/TRDRP/Buffers'"
      ]
     },
     "execution_count": 2,
     "metadata": {},
     "output_type": "execute_result"
    }
   ],
   "source": [
    "pwd!"
   ]
  },
  {
   "cell_type": "markdown",
   "metadata": {},
   "source": [
    "# Buffers: 200ft, 300ft, 500ft, 1000ft, 1200ft"
   ]
  },
  {
   "cell_type": "code",
   "execution_count": 43,
   "metadata": {},
   "outputs": [],
   "source": [
    "#reading in .shp files\n",
    "combinedRetailProperties_2019_200ft=gpd.read_file('/Users/markhyun/Desktop/HealthandSpaceLab/TRDRP/Buffers/Buffered .shp files/combinedRetailProperties_2019_200ft.shp')\n",
    "combinedRetailProperties_2019_300ft=gpd.read_file('/Users/markhyun/Desktop/HealthandSpaceLab/TRDRP/Buffers/Buffered .shp files/combinedRetailProperties_2019_300ft.shp')\n",
    "combinedRetailProperties_2019_500ft=gpd.read_file('/Users/markhyun/Desktop/HealthandSpaceLab/TRDRP/Buffers/Buffered .shp files/combinedRetailProperties_2019_500ft.shp')\n",
    "combinedRetailProperties_2019_1000ft=gpd.read_file('/Users/markhyun/Desktop/HealthandSpaceLab/TRDRP/Buffers/Buffered .shp files/combinedRetailProperties_2019_1000ft.shp')\n",
    "combinedRetailProperties_2019_1200ft=gpd.read_file('/Users/markhyun/Desktop/HealthandSpaceLab/TRDRP/Buffers/Buffered .shp files/combinedRetailProperties_2019_1200ft.shp')\n"
   ]
  },
  {
   "cell_type": "code",
   "execution_count": 48,
   "metadata": {},
   "outputs": [
    {
     "name": "stderr",
     "output_type": "stream",
     "text": [
      "/Users/markhyun/opt/anaconda3/lib/python3.7/site-packages/pyproj/crs/crs.py:53: FutureWarning: '+init=<authority>:<code>' syntax is deprecated. '<authority>:<code>' is the preferred initialization method. When making the change, be mindful of axis order changes: https://pyproj4.github.io/pyproj/stable/gotchas.html#axis-order-changes-in-proj-6\n",
      "  return _prepare_from_string(\" \".join(pjargs))\n"
     ]
    },
    {
     "data": {
      "text/html": [
       "<div>\n",
       "<style scoped>\n",
       "    .dataframe tbody tr th:only-of-type {\n",
       "        vertical-align: middle;\n",
       "    }\n",
       "\n",
       "    .dataframe tbody tr th {\n",
       "        vertical-align: top;\n",
       "    }\n",
       "\n",
       "    .dataframe thead th {\n",
       "        text-align: right;\n",
       "    }\n",
       "</style>\n",
       "<table border=\"1\" class=\"dataframe\">\n",
       "  <thead>\n",
       "    <tr style=\"text-align: right;\">\n",
       "      <th></th>\n",
       "      <th>Business_N</th>\n",
       "      <th>X</th>\n",
       "      <th>Y</th>\n",
       "      <th>BUFF_DIST</th>\n",
       "      <th>ORIG_FID</th>\n",
       "      <th>geometry</th>\n",
       "    </tr>\n",
       "  </thead>\n",
       "  <tbody>\n",
       "    <tr>\n",
       "      <th>0</th>\n",
       "      <td>EL MEXICANO MARKET</td>\n",
       "      <td>-118.265225</td>\n",
       "      <td>33.979012</td>\n",
       "      <td>200.0</td>\n",
       "      <td>0</td>\n",
       "      <td>POLYGON ((-118.26522 33.97956, -118.26515 33.9...</td>\n",
       "    </tr>\n",
       "    <tr>\n",
       "      <th>1</th>\n",
       "      <td>7-ELEVEN #36961A</td>\n",
       "      <td>-118.268993</td>\n",
       "      <td>33.974727</td>\n",
       "      <td>200.0</td>\n",
       "      <td>1</td>\n",
       "      <td>POLYGON ((-118.26899 33.97528, -118.26892 33.9...</td>\n",
       "    </tr>\n",
       "    <tr>\n",
       "      <th>2</th>\n",
       "      <td>RITE AID #5445</td>\n",
       "      <td>-118.282709</td>\n",
       "      <td>34.004839</td>\n",
       "      <td>200.0</td>\n",
       "      <td>2</td>\n",
       "      <td>POLYGON ((-118.28271 34.00539, -118.28263 34.0...</td>\n",
       "    </tr>\n",
       "    <tr>\n",
       "      <th>3</th>\n",
       "      <td>CHEVRON STATIONS INC. #1864</td>\n",
       "      <td>-118.282721</td>\n",
       "      <td>34.010682</td>\n",
       "      <td>200.0</td>\n",
       "      <td>3</td>\n",
       "      <td>POLYGON ((-118.28272 34.01123, -118.28265 34.0...</td>\n",
       "    </tr>\n",
       "    <tr>\n",
       "      <th>4</th>\n",
       "      <td>BESTWAY LIQUOR</td>\n",
       "      <td>-118.282762</td>\n",
       "      <td>34.008035</td>\n",
       "      <td>200.0</td>\n",
       "      <td>4</td>\n",
       "      <td>POLYGON ((-118.28276 34.00858, -118.28269 34.0...</td>\n",
       "    </tr>\n",
       "  </tbody>\n",
       "</table>\n",
       "</div>"
      ],
      "text/plain": [
       "                    Business_N           X          Y  BUFF_DIST  ORIG_FID  \\\n",
       "0           EL MEXICANO MARKET -118.265225  33.979012      200.0         0   \n",
       "1             7-ELEVEN #36961A -118.268993  33.974727      200.0         1   \n",
       "2               RITE AID #5445 -118.282709  34.004839      200.0         2   \n",
       "3  CHEVRON STATIONS INC. #1864 -118.282721  34.010682      200.0         3   \n",
       "4               BESTWAY LIQUOR -118.282762  34.008035      200.0         4   \n",
       "\n",
       "                                            geometry  \n",
       "0  POLYGON ((-118.26522 33.97956, -118.26515 33.9...  \n",
       "1  POLYGON ((-118.26899 33.97528, -118.26892 33.9...  \n",
       "2  POLYGON ((-118.28271 34.00539, -118.28263 34.0...  \n",
       "3  POLYGON ((-118.28272 34.01123, -118.28265 34.0...  \n",
       "4  POLYGON ((-118.28276 34.00858, -118.28269 34.0...  "
      ]
     },
     "execution_count": 48,
     "metadata": {},
     "output_type": "execute_result"
    }
   ],
   "source": [
    "combinedRetailProperties_2019_200ft.crs = {'init': 'EPSG:4269'}\n",
    "combinedRetailProperties_2019_200ft['geometry'] = combinedRetailProperties_2019_200ft['geometry'].to_crs(epsg=4269)\n",
    "combinedRetailProperties_2019_200ft.head()"
   ]
  },
  {
   "cell_type": "markdown",
   "metadata": {},
   "source": [
    "# Combined retail Properties: Alcohol Shops, Tobacco Shops, Marijuana Shops"
   ]
  },
  {
   "cell_type": "code",
   "execution_count": 9,
   "metadata": {},
   "outputs": [],
   "source": [
    "#see data cleaning python3 file for the data cleaning and method.\n",
    "Combined_RetailProperties_2019 = pd.read_csv('/Users/markhyun/Desktop/HealthandSpaceLab/TRDRP/Buffers/Output/combinedRetail_Properties_2019.csv')"
   ]
  },
  {
   "cell_type": "code",
   "execution_count": 49,
   "metadata": {},
   "outputs": [],
   "source": [
    "Combined_RetailProperties_2019 = gpd.GeoDataFrame(\n",
    "    Combined_RetailProperties_2019, geometry=gpd.points_from_xy(Combined_RetailProperties_2019.X, Combined_RetailProperties_2019.Y), crs = 'EPSG:4269')"
   ]
  },
  {
   "cell_type": "code",
   "execution_count": 42,
   "metadata": {},
   "outputs": [
    {
     "data": {
      "text/plain": [
       "<Geographic 2D CRS: EPSG:4269>\n",
       "Name: NAD83\n",
       "Axis Info [ellipsoidal]:\n",
       "- Lat[north]: Geodetic latitude (degree)\n",
       "- Lon[east]: Geodetic longitude (degree)\n",
       "Area of Use:\n",
       "- name: North America - NAD83\n",
       "- bounds: (167.65, 14.92, -47.74, 86.46)\n",
       "Datum: North American Datum 1983\n",
       "- Ellipsoid: GRS 1980\n",
       "- Prime Meridian: Greenwich"
      ]
     },
     "execution_count": 42,
     "metadata": {},
     "output_type": "execute_result"
    },
    {
     "data": {
      "image/png": "[encoded data removed]",
      "text/plain": [
       "<Figure size 432x288 with 1 Axes>"
      ]
     },
     "metadata": {
      "needs_background": "light"
     },
     "output_type": "display_data"
    }
   ],
   "source": [
    "Combined_RetailProperties_2019.plot()\n",
    "\n",
    "Combined_RetailProperties_2019.crs"
   ]
  },
  {
   "cell_type": "code",
   "execution_count": 50,
   "metadata": {},
   "outputs": [
    {
     "data": {
      "text/plain": [
       "<matplotlib.axes._subplots.AxesSubplot at 0x7fadbd4beb50>"
      ]
     },
     "execution_count": 50,
     "metadata": {},
     "output_type": "execute_result"
    },
    {
     "data": {
      "image/png": "[encoded data removed]",
      "text/plain": [
       "<Figure size 432x288 with 1 Axes>"
      ]
     },
     "metadata": {
      "needs_background": "light"
     },
     "output_type": "display_data"
    },
    {
     "data": {
      "image/png": "[encoded data removed]",
      "text/plain": [
       "<Figure size 432x288 with 1 Axes>"
      ]
     },
     "metadata": {
      "needs_background": "light"
     },
     "output_type": "display_data"
    },
    {
     "data": {
      "image/png": "[encoded data removed]",
      "text/plain": [
       "<Figure size 432x288 with 1 Axes>"
      ]
     },
     "metadata": {
      "needs_background": "light"
     },
     "output_type": "display_data"
    },
    {
     "data": {
      "image/png": "[encoded data removed]",
      "text/plain": [
       "<Figure size 432x288 with 1 Axes>"
      ]
     },
     "metadata": {
      "needs_background": "light"
     },
     "output_type": "display_data"
    },
    {
     "data": {
      "image/png": "[encoded data removed]",
      "text/plain": [
       "<Figure size 432x288 with 1 Axes>"
      ]
     },
     "metadata": {
      "needs_background": "light"
     },
     "output_type": "display_data"
    }
   ],
   "source": [
    "#plotting all buffers\n",
    "combinedRetailProperties_2019_200ft.plot()\n",
    "combinedRetailProperties_2019_300ft.plot()\n",
    "combinedRetailProperties_2019_500ft.plot()\n",
    "combinedRetailProperties_2019_1000ft.plot()\n",
    "combinedRetailProperties_2019_1200ft.plot()"
   ]
  },
  {
   "cell_type": "markdown",
   "metadata": {},
   "source": [
    "# Crime Data in SLA"
   ]
  },
  {
   "cell_type": "code",
   "execution_count": 51,
   "metadata": {},
   "outputs": [
    {
     "data": {
      "text/html": [
       "<div>\n",
       "<style scoped>\n",
       "    .dataframe tbody tr th:only-of-type {\n",
       "        vertical-align: middle;\n",
       "    }\n",
       "\n",
       "    .dataframe tbody tr th {\n",
       "        vertical-align: top;\n",
       "    }\n",
       "\n",
       "    .dataframe thead th {\n",
       "        text-align: right;\n",
       "    }\n",
       "</style>\n",
       "<table border=\"1\" class=\"dataframe\">\n",
       "  <thead>\n",
       "    <tr style=\"text-align: right;\">\n",
       "      <th></th>\n",
       "      <th>OBJECTID</th>\n",
       "      <th>STATEFP</th>\n",
       "      <th>COUNTYFP</th>\n",
       "      <th>TRACTCE</th>\n",
       "      <th>GEOID</th>\n",
       "      <th>NAME</th>\n",
       "      <th>NAMELSAD</th>\n",
       "      <th>MTFCC</th>\n",
       "      <th>FUNCSTAT</th>\n",
       "      <th>ALAND</th>\n",
       "      <th>...</th>\n",
       "      <th>Shape_Leng</th>\n",
       "      <th>Shape_Area</th>\n",
       "      <th>SLA_GEOID1</th>\n",
       "      <th>vc_total</th>\n",
       "      <th>pc_total</th>\n",
       "      <th>crime_tota</th>\n",
       "      <th>SLA_GEOI_1</th>\n",
       "      <th>type1_tota</th>\n",
       "      <th>type2_tota</th>\n",
       "      <th>geometry</th>\n",
       "    </tr>\n",
       "  </thead>\n",
       "  <tbody>\n",
       "    <tr>\n",
       "      <th>0</th>\n",
       "      <td>1</td>\n",
       "      <td>06</td>\n",
       "      <td>037</td>\n",
       "      <td>237201</td>\n",
       "      <td>06037237201</td>\n",
       "      <td>2372.01</td>\n",
       "      <td>Census Tract 2372.01</td>\n",
       "      <td>G5020</td>\n",
       "      <td>S</td>\n",
       "      <td>453406.0</td>\n",
       "      <td>...</td>\n",
       "      <td>0.026608</td>\n",
       "      <td>0.000044</td>\n",
       "      <td>06037237201</td>\n",
       "      <td>69</td>\n",
       "      <td>71</td>\n",
       "      <td>163</td>\n",
       "      <td>06037237201</td>\n",
       "      <td>81</td>\n",
       "      <td>82</td>\n",
       "      <td>POLYGON ((-118.30240 33.98325, -118.30239 33.9...</td>\n",
       "    </tr>\n",
       "    <tr>\n",
       "      <th>1</th>\n",
       "      <td>2</td>\n",
       "      <td>06</td>\n",
       "      <td>037</td>\n",
       "      <td>239201</td>\n",
       "      <td>06037239201</td>\n",
       "      <td>2392.01</td>\n",
       "      <td>Census Tract 2392.01</td>\n",
       "      <td>G5020</td>\n",
       "      <td>S</td>\n",
       "      <td>449869.0</td>\n",
       "      <td>...</td>\n",
       "      <td>0.026609</td>\n",
       "      <td>0.000044</td>\n",
       "      <td>06037239201</td>\n",
       "      <td>123</td>\n",
       "      <td>98</td>\n",
       "      <td>227</td>\n",
       "      <td>06037239201</td>\n",
       "      <td>104</td>\n",
       "      <td>123</td>\n",
       "      <td>POLYGON ((-118.28047 33.98286, -118.28045 33.9...</td>\n",
       "    </tr>\n",
       "    <tr>\n",
       "      <th>2</th>\n",
       "      <td>3</td>\n",
       "      <td>06</td>\n",
       "      <td>037</td>\n",
       "      <td>239601</td>\n",
       "      <td>06037239601</td>\n",
       "      <td>2396.01</td>\n",
       "      <td>Census Tract 2396.01</td>\n",
       "      <td>G5020</td>\n",
       "      <td>S</td>\n",
       "      <td>422289.0</td>\n",
       "      <td>...</td>\n",
       "      <td>0.030094</td>\n",
       "      <td>0.000041</td>\n",
       "      <td>06037239601</td>\n",
       "      <td>139</td>\n",
       "      <td>99</td>\n",
       "      <td>257</td>\n",
       "      <td>06037239601</td>\n",
       "      <td>125</td>\n",
       "      <td>132</td>\n",
       "      <td>POLYGON ((-118.28071 33.97467, -118.28023 33.9...</td>\n",
       "    </tr>\n",
       "    <tr>\n",
       "      <th>3</th>\n",
       "      <td>4</td>\n",
       "      <td>06</td>\n",
       "      <td>037</td>\n",
       "      <td>237300</td>\n",
       "      <td>06037237300</td>\n",
       "      <td>2373</td>\n",
       "      <td>Census Tract 2373</td>\n",
       "      <td>G5020</td>\n",
       "      <td>S</td>\n",
       "      <td>997691.0</td>\n",
       "      <td>...</td>\n",
       "      <td>0.041349</td>\n",
       "      <td>0.000097</td>\n",
       "      <td>06037237300</td>\n",
       "      <td>205</td>\n",
       "      <td>255</td>\n",
       "      <td>505</td>\n",
       "      <td>06037237300</td>\n",
       "      <td>306</td>\n",
       "      <td>199</td>\n",
       "      <td>POLYGON ((-118.31775 33.97502, -118.31774 33.9...</td>\n",
       "    </tr>\n",
       "    <tr>\n",
       "      <th>4</th>\n",
       "      <td>5</td>\n",
       "      <td>06</td>\n",
       "      <td>037</td>\n",
       "      <td>227010</td>\n",
       "      <td>06037227010</td>\n",
       "      <td>2270.10</td>\n",
       "      <td>Census Tract 2270.10</td>\n",
       "      <td>G5020</td>\n",
       "      <td>S</td>\n",
       "      <td>579198.0</td>\n",
       "      <td>...</td>\n",
       "      <td>0.036961</td>\n",
       "      <td>0.000057</td>\n",
       "      <td>06037227010</td>\n",
       "      <td>88</td>\n",
       "      <td>114</td>\n",
       "      <td>213</td>\n",
       "      <td>06037227010</td>\n",
       "      <td>113</td>\n",
       "      <td>100</td>\n",
       "      <td>POLYGON ((-118.25427 34.02038, -118.25412 34.0...</td>\n",
       "    </tr>\n",
       "  </tbody>\n",
       "</table>\n",
       "<p>5 rows × 23 columns</p>\n",
       "</div>"
      ],
      "text/plain": [
       "   OBJECTID STATEFP COUNTYFP TRACTCE        GEOID     NAME  \\\n",
       "0         1      06      037  237201  06037237201  2372.01   \n",
       "1         2      06      037  239201  06037239201  2392.01   \n",
       "2         3      06      037  239601  06037239601  2396.01   \n",
       "3         4      06      037  237300  06037237300     2373   \n",
       "4         5      06      037  227010  06037227010  2270.10   \n",
       "\n",
       "               NAMELSAD  MTFCC FUNCSTAT     ALAND  ...  Shape_Leng Shape_Area  \\\n",
       "0  Census Tract 2372.01  G5020        S  453406.0  ...    0.026608   0.000044   \n",
       "1  Census Tract 2392.01  G5020        S  449869.0  ...    0.026609   0.000044   \n",
       "2  Census Tract 2396.01  G5020        S  422289.0  ...    0.030094   0.000041   \n",
       "3     Census Tract 2373  G5020        S  997691.0  ...    0.041349   0.000097   \n",
       "4  Census Tract 2270.10  G5020        S  579198.0  ...    0.036961   0.000057   \n",
       "\n",
       "    SLA_GEOID1  vc_total  pc_total crime_tota   SLA_GEOI_1  type1_tota  \\\n",
       "0  06037237201        69        71        163  06037237201          81   \n",
       "1  06037239201       123        98        227  06037239201         104   \n",
       "2  06037239601       139        99        257  06037239601         125   \n",
       "3  06037237300       205       255        505  06037237300         306   \n",
       "4  06037227010        88       114        213  06037227010         113   \n",
       "\n",
       "   type2_tota                                           geometry  \n",
       "0          82  POLYGON ((-118.30240 33.98325, -118.30239 33.9...  \n",
       "1         123  POLYGON ((-118.28047 33.98286, -118.28045 33.9...  \n",
       "2         132  POLYGON ((-118.28071 33.97467, -118.28023 33.9...  \n",
       "3         199  POLYGON ((-118.31775 33.97502, -118.31774 33.9...  \n",
       "4         100  POLYGON ((-118.25427 34.02038, -118.25412 34.0...  \n",
       "\n",
       "[5 rows x 23 columns]"
      ]
     },
     "execution_count": 51,
     "metadata": {},
     "output_type": "execute_result"
    },
    {
     "data": {
      "image/png": "[encoded data removed]",
      "text/plain": [
       "<Figure size 432x288 with 1 Axes>"
      ]
     },
     "metadata": {
      "needs_background": "light"
     },
     "output_type": "display_data"
    }
   ],
   "source": [
    "crime_shp=gpd.read_file('/Users/markhyun/Desktop/HealthandSpaceLab/TRDRP/Buffers/Crime .shp files/SLA_CRIME.shp')\n",
    "crime_shp.plot()\n",
    "crime_shp.head()"
   ]
  },
  {
   "cell_type": "code",
   "execution_count": null,
   "metadata": {},
   "outputs": [],
   "source": []
  },
  {
   "cell_type": "markdown",
   "metadata": {},
   "source": [
    "# Making all .shp df's are in the same projection"
   ]
  },
  {
   "cell_type": "code",
   "execution_count": 52,
   "metadata": {},
   "outputs": [
    {
     "ename": "CRSError",
     "evalue": "Invalid projection: {\"EPSG\": \"4269\"}: (Internal Proj Error: proj_create: Missing \"type\" key)",
     "output_type": "error",
     "traceback": [
      "\u001b[0;31m---------------------------------------------------------------------------\u001b[0m",
      "\u001b[0;31mCRSError\u001b[0m                                  Traceback (most recent call last)",
      "\u001b[0;32m<ipython-input-52-51a67a58eb3e>\u001b[0m in \u001b[0;36m<module>\u001b[0;34m\u001b[0m\n\u001b[0;32m----> 1\u001b[0;31m \u001b[0mcrime_shp\u001b[0m\u001b[0;34m.\u001b[0m\u001b[0mcrs\u001b[0m \u001b[0;34m=\u001b[0m \u001b[0;34m{\u001b[0m\u001b[0;34m'EPSG'\u001b[0m\u001b[0;34m:\u001b[0m\u001b[0;34m'4269'\u001b[0m\u001b[0;34m}\u001b[0m\u001b[0;34m\u001b[0m\u001b[0;34m\u001b[0m\u001b[0m\n\u001b[0m\u001b[1;32m      2\u001b[0m \u001b[0mcrime_shp\u001b[0m\u001b[0;34m.\u001b[0m\u001b[0mcrs\u001b[0m\u001b[0;34m\u001b[0m\u001b[0;34m\u001b[0m\u001b[0m\n",
      "\u001b[0;32m~/opt/anaconda3/lib/python3.7/site-packages/geopandas/geodataframe.py\u001b[0m in \u001b[0;36m__setattr__\u001b[0;34m(self, attr, val)\u001b[0m\n\u001b[1;32m     95\u001b[0m             \u001b[0mobject\u001b[0m\u001b[0;34m.\u001b[0m\u001b[0m__setattr__\u001b[0m\u001b[0;34m(\u001b[0m\u001b[0mself\u001b[0m\u001b[0;34m,\u001b[0m \u001b[0mattr\u001b[0m\u001b[0;34m,\u001b[0m \u001b[0mval\u001b[0m\u001b[0;34m)\u001b[0m\u001b[0;34m\u001b[0m\u001b[0;34m\u001b[0m\u001b[0m\n\u001b[1;32m     96\u001b[0m         \u001b[0;32melse\u001b[0m\u001b[0;34m:\u001b[0m\u001b[0;34m\u001b[0m\u001b[0;34m\u001b[0m\u001b[0m\n\u001b[0;32m---> 97\u001b[0;31m             \u001b[0msuper\u001b[0m\u001b[0;34m(\u001b[0m\u001b[0mGeoDataFrame\u001b[0m\u001b[0;34m,\u001b[0m \u001b[0mself\u001b[0m\u001b[0;34m)\u001b[0m\u001b[0;34m.\u001b[0m\u001b[0m__setattr__\u001b[0m\u001b[0;34m(\u001b[0m\u001b[0mattr\u001b[0m\u001b[0;34m,\u001b[0m \u001b[0mval\u001b[0m\u001b[0;34m)\u001b[0m\u001b[0;34m\u001b[0m\u001b[0;34m\u001b[0m\u001b[0m\n\u001b[0m\u001b[1;32m     98\u001b[0m \u001b[0;34m\u001b[0m\u001b[0m\n\u001b[1;32m     99\u001b[0m     \u001b[0;32mdef\u001b[0m \u001b[0m_get_geometry\u001b[0m\u001b[0;34m(\u001b[0m\u001b[0mself\u001b[0m\u001b[0;34m)\u001b[0m\u001b[0;34m:\u001b[0m\u001b[0;34m\u001b[0m\u001b[0;34m\u001b[0m\u001b[0m\n",
      "\u001b[0;32m~/opt/anaconda3/lib/python3.7/site-packages/pandas/core/generic.py\u001b[0m in \u001b[0;36m__setattr__\u001b[0;34m(self, name, value)\u001b[0m\n\u001b[1;32m   5285\u001b[0m         \u001b[0;32mtry\u001b[0m\u001b[0;34m:\u001b[0m\u001b[0;34m\u001b[0m\u001b[0;34m\u001b[0m\u001b[0m\n\u001b[1;32m   5286\u001b[0m             \u001b[0mobject\u001b[0m\u001b[0;34m.\u001b[0m\u001b[0m__getattribute__\u001b[0m\u001b[0;34m(\u001b[0m\u001b[0mself\u001b[0m\u001b[0;34m,\u001b[0m \u001b[0mname\u001b[0m\u001b[0;34m)\u001b[0m\u001b[0;34m\u001b[0m\u001b[0;34m\u001b[0m\u001b[0m\n\u001b[0;32m-> 5287\u001b[0;31m             \u001b[0;32mreturn\u001b[0m \u001b[0mobject\u001b[0m\u001b[0;34m.\u001b[0m\u001b[0m__setattr__\u001b[0m\u001b[0;34m(\u001b[0m\u001b[0mself\u001b[0m\u001b[0;34m,\u001b[0m \u001b[0mname\u001b[0m\u001b[0;34m,\u001b[0m \u001b[0mvalue\u001b[0m\u001b[0;34m)\u001b[0m\u001b[0;34m\u001b[0m\u001b[0;34m\u001b[0m\u001b[0m\n\u001b[0m\u001b[1;32m   5288\u001b[0m         \u001b[0;32mexcept\u001b[0m \u001b[0mAttributeError\u001b[0m\u001b[0;34m:\u001b[0m\u001b[0;34m\u001b[0m\u001b[0;34m\u001b[0m\u001b[0m\n\u001b[1;32m   5289\u001b[0m             \u001b[0;32mpass\u001b[0m\u001b[0;34m\u001b[0m\u001b[0;34m\u001b[0m\u001b[0m\n",
      "\u001b[0;32m~/opt/anaconda3/lib/python3.7/site-packages/geopandas/base.py\u001b[0m in \u001b[0;36mcrs\u001b[0;34m(self, value)\u001b[0m\n\u001b[1;32m    151\u001b[0m     \u001b[0;32mdef\u001b[0m \u001b[0mcrs\u001b[0m\u001b[0;34m(\u001b[0m\u001b[0mself\u001b[0m\u001b[0;34m,\u001b[0m \u001b[0mvalue\u001b[0m\u001b[0;34m)\u001b[0m\u001b[0;34m:\u001b[0m\u001b[0;34m\u001b[0m\u001b[0;34m\u001b[0m\u001b[0m\n\u001b[1;32m    152\u001b[0m         \u001b[0;34m\"\"\"Sets the value of the crs\"\"\"\u001b[0m\u001b[0;34m\u001b[0m\u001b[0;34m\u001b[0m\u001b[0m\n\u001b[0;32m--> 153\u001b[0;31m         \u001b[0mself\u001b[0m\u001b[0;34m.\u001b[0m\u001b[0m_crs\u001b[0m \u001b[0;34m=\u001b[0m \u001b[0;32mNone\u001b[0m \u001b[0;32mif\u001b[0m \u001b[0;32mnot\u001b[0m \u001b[0mvalue\u001b[0m \u001b[0;32melse\u001b[0m \u001b[0mCRS\u001b[0m\u001b[0;34m.\u001b[0m\u001b[0mfrom_user_input\u001b[0m\u001b[0;34m(\u001b[0m\u001b[0mvalue\u001b[0m\u001b[0;34m)\u001b[0m\u001b[0;34m\u001b[0m\u001b[0;34m\u001b[0m\u001b[0m\n\u001b[0m\u001b[1;32m    154\u001b[0m \u001b[0;34m\u001b[0m\u001b[0m\n\u001b[1;32m    155\u001b[0m     \u001b[0;34m@\u001b[0m\u001b[0mproperty\u001b[0m\u001b[0;34m\u001b[0m\u001b[0;34m\u001b[0m\u001b[0m\n",
      "\u001b[0;32m~/opt/anaconda3/lib/python3.7/site-packages/pyproj/crs/crs.py\u001b[0m in \u001b[0;36mfrom_user_input\u001b[0;34m(value, **kwargs)\u001b[0m\n\u001b[1;32m    438\u001b[0m         \u001b[0;32mif\u001b[0m \u001b[0misinstance\u001b[0m\u001b[0;34m(\u001b[0m\u001b[0mvalue\u001b[0m\u001b[0;34m,\u001b[0m \u001b[0mCRS\u001b[0m\u001b[0;34m)\u001b[0m\u001b[0;34m:\u001b[0m\u001b[0;34m\u001b[0m\u001b[0;34m\u001b[0m\u001b[0m\n\u001b[1;32m    439\u001b[0m             \u001b[0;32mreturn\u001b[0m \u001b[0mvalue\u001b[0m\u001b[0;34m\u001b[0m\u001b[0;34m\u001b[0m\u001b[0m\n\u001b[0;32m--> 440\u001b[0;31m         \u001b[0;32mreturn\u001b[0m \u001b[0mCRS\u001b[0m\u001b[0;34m(\u001b[0m\u001b[0mvalue\u001b[0m\u001b[0;34m,\u001b[0m \u001b[0;34m**\u001b[0m\u001b[0mkwargs\u001b[0m\u001b[0;34m)\u001b[0m\u001b[0;34m\u001b[0m\u001b[0;34m\u001b[0m\u001b[0m\n\u001b[0m\u001b[1;32m    441\u001b[0m \u001b[0;34m\u001b[0m\u001b[0m\n\u001b[1;32m    442\u001b[0m     \u001b[0;32mdef\u001b[0m \u001b[0mget_geod\u001b[0m\u001b[0;34m(\u001b[0m\u001b[0mself\u001b[0m\u001b[0;34m)\u001b[0m \u001b[0;34m->\u001b[0m \u001b[0mOptional\u001b[0m\u001b[0;34m[\u001b[0m\u001b[0mGeod\u001b[0m\u001b[0;34m]\u001b[0m\u001b[0;34m:\u001b[0m\u001b[0;34m\u001b[0m\u001b[0;34m\u001b[0m\u001b[0m\n",
      "\u001b[0;32m~/opt/anaconda3/lib/python3.7/site-packages/pyproj/crs/crs.py\u001b[0m in \u001b[0;36m__init__\u001b[0;34m(self, projparams, **kwargs)\u001b[0m\n\u001b[1;32m    294\u001b[0m             \u001b[0mprojstring\u001b[0m \u001b[0;34m=\u001b[0m \u001b[0m_prepare_from_string\u001b[0m\u001b[0;34m(\u001b[0m\u001b[0;34m\" \"\u001b[0m\u001b[0;34m.\u001b[0m\u001b[0mjoin\u001b[0m\u001b[0;34m(\u001b[0m\u001b[0;34m(\u001b[0m\u001b[0mprojstring\u001b[0m\u001b[0;34m,\u001b[0m \u001b[0mprojkwargs\u001b[0m\u001b[0;34m)\u001b[0m\u001b[0;34m)\u001b[0m\u001b[0;34m)\u001b[0m\u001b[0;34m\u001b[0m\u001b[0;34m\u001b[0m\u001b[0m\n\u001b[1;32m    295\u001b[0m \u001b[0;34m\u001b[0m\u001b[0m\n\u001b[0;32m--> 296\u001b[0;31m         \u001b[0msuper\u001b[0m\u001b[0;34m(\u001b[0m\u001b[0;34m)\u001b[0m\u001b[0;34m.\u001b[0m\u001b[0m__init__\u001b[0m\u001b[0;34m(\u001b[0m\u001b[0mprojstring\u001b[0m\u001b[0;34m)\u001b[0m\u001b[0;34m\u001b[0m\u001b[0;34m\u001b[0m\u001b[0m\n\u001b[0m\u001b[1;32m    297\u001b[0m \u001b[0;34m\u001b[0m\u001b[0m\n\u001b[1;32m    298\u001b[0m     \u001b[0;34m@\u001b[0m\u001b[0mstaticmethod\u001b[0m\u001b[0;34m\u001b[0m\u001b[0;34m\u001b[0m\u001b[0m\n",
      "\u001b[0;32mpyproj/_crs.pyx\u001b[0m in \u001b[0;36mpyproj._crs._CRS.__init__\u001b[0;34m()\u001b[0m\n",
      "\u001b[0;31mCRSError\u001b[0m: Invalid projection: {\"EPSG\": \"4269\"}: (Internal Proj Error: proj_create: Missing \"type\" key)"
     ]
    }
   ],
   "source": [
    "crime_shp.crs = {'EPSG':'4269'}\n",
    "crime_shp.crs"
   ]
  },
  {
   "cell_type": "code",
   "execution_count": 35,
   "metadata": {},
   "outputs": [],
   "source": [
    "combinedRetailProperties_2019_200ft.crs = {'init': 'EPSG:4326'}\n",
    "combinedRetailProperties_2019_300ft.crs = {'init': 'EPSG:4326'}\n",
    "combinedRetailProperties_2019_500ft.crs = {'init': 'EPSG:4326'}\n",
    "combinedRetailProperties_2019_1000ft.crs = {'init': 'EPSG:4326'}\n",
    "combinedRetailProperties_2019_1200ft.crs = {'init': 'EPSG:4326'}\n",
    "Combined_RetailProperties_2019.crs = {'init': 'EPSG:4326'}"
   ]
  },
  {
   "cell_type": "code",
   "execution_count": 36,
   "metadata": {},
   "outputs": [
    {
     "data": {
      "text/plain": [
       "<matplotlib.axes._subplots.AxesSubplot at 0x7fadbf12b790>"
      ]
     },
     "execution_count": 36,
     "metadata": {},
     "output_type": "execute_result"
    },
    {
     "data": {
      "image/png": "[encoded data removed]",
      "text/plain": [
       "<Figure size 432x288 with 1 Axes>"
      ]
     },
     "metadata": {
      "needs_background": "light"
     },
     "output_type": "display_data"
    },
    {
     "data": {
      "image/png": "[encoded data removed]",
      "text/plain": [
       "<Figure size 432x288 with 1 Axes>"
      ]
     },
     "metadata": {
      "needs_background": "light"
     },
     "output_type": "display_data"
    },
    {
     "data": {
      "image/png": "[encoded data removed]",
      "text/plain": [
       "<Figure size 432x288 with 1 Axes>"
      ]
     },
     "metadata": {
      "needs_background": "light"
     },
     "output_type": "display_data"
    },
    {
     "data": {
      "image/png": "[encoded data removed]",
      "text/plain": [
       "<Figure size 432x288 with 1 Axes>"
      ]
     },
     "metadata": {
      "needs_background": "light"
     },
     "output_type": "display_data"
    },
    {
     "data": {
      "image/png": "[encoded data removed]",
      "text/plain": [
       "<Figure size 432x288 with 1 Axes>"
      ]
     },
     "metadata": {
      "needs_background": "light"
     },
     "output_type": "display_data"
    },
    {
     "data": {
      "image/png": "[encoded data removed]",
      "text/plain": [
       "<Figure size 432x288 with 1 Axes>"
      ]
     },
     "metadata": {
      "needs_background": "light"
     },
     "output_type": "display_data"
    },
    {
     "data": {
      "image/png": "[encoded data removed]",
      "text/plain": [
       "<Figure size 432x288 with 1 Axes>"
      ]
     },
     "metadata": {
      "needs_background": "light"
     },
     "output_type": "display_data"
    }
   ],
   "source": [
    "combinedRetailProperties_2019_200ft.plot()\n",
    "combinedRetailProperties_2019_300ft.plot()\n",
    "combinedRetailProperties_2019_500ft.plot()\n",
    "combinedRetailProperties_2019_1000ft.plot()\n",
    "combinedRetailProperties_2019_1200ft.plot()\n",
    "Combined_RetailProperties_2019.plot()\n",
    "crime_shp.plot()"
   ]
  },
  {
   "cell_type": "code",
   "execution_count": null,
   "metadata": {},
   "outputs": [],
   "source": []
  }
 ],
 "metadata": {
  "kernelspec": {
   "display_name": "Python 3",
   "language": "python",
   "name": "python3"
  },
  "language_info": {
   "codemirror_mode": {
    "name": "ipython",
    "version": 3
   },
   "file_extension": ".py",
   "mimetype": "text/x-python",
   "name": "python",
   "nbconvert_exporter": "python",
   "pygments_lexer": "ipython3",
   "version": "3.7.6"
  }
 },
 "nbformat": 4,
 "nbformat_minor": 4
}
